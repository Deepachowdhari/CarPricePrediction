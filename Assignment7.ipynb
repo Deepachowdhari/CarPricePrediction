{
 "cells": [
  {
   "cell_type": "markdown",
   "id": "fddc1016",
   "metadata": {},
   "source": [
    "# Car price prediction is crucial in the automotive industry for several reasons:\n",
    "\n",
    "Consumer Decision Making: Predicting car prices helps potential buyers make informed decisions about their purchases. \n",
    "Knowing the expected price range of a car allows consumers to budget accordingly and choose a vehicle that fits their financial capabilities.\n",
    "\n",
    "Market Competitiveness: Car manufacturers and dealerships need to understand the pricing trends in the market to remain competitive. Accurate price predictions enable them to set competitive prices for their vehicles, attract customers, and maintain or increase market share.\n",
    "\n",
    "Inventory Management: Car dealerships rely on effective inventory management to optimize their operations. Predicting prices helps dealerships determine the appropriate stock levels and adjust their inventory based on anticipated demand and market fluctuations.\n",
    "\n",
    "Financial Planning: Car price prediction assists financial institutions in assessing the value of vehicles for loan purposes. Banks and lending institutions need accurate predictions to determine loan amounts, interest rates, and repayment terms for car financing.\n",
    "\n",
    "Risk Mitigation: For car manufacturers, predicting prices allows them to mitigate risks associated with production and inventory management. By anticipating price fluctuations, they can adjust production levels, manage supply chains efficiently, and minimize losses from overproduction or understocking."
   ]
  },
  {
   "cell_type": "markdown",
   "id": "5f937c4d",
   "metadata": {},
   "source": [
    "# Overview of the Dataset used for this Project"
   ]
  },
  {
   "cell_type": "markdown",
   "id": "9fba2eb9",
   "metadata": {},
   "source": [
    "The dataset has information about different cars, including their make, year, selling price, kilometers driven, fuel type, seller type, transmission type, and owner history.It has relevant features to predict the target variable.The target variable is here to predict the price of car."
   ]
  },
  {
   "cell_type": "markdown",
   "id": "04d21643",
   "metadata": {},
   "source": [
    "# Objective of the Project"
   ]
  },
  {
   "cell_type": "markdown",
   "id": "6c427b42",
   "metadata": {},
   "source": [
    "The objective is to predict the car price using different regression machine learning algorithms. Three different machine leraning alogrithms Linear regression,Random Forest Regression and Support Vector Regressor are trained on this dataset."
   ]
  },
  {
   "cell_type": "markdown",
   "id": "f59d7503",
   "metadata": {},
   "source": [
    "# Importing the Dependencies"
   ]
  },
  {
   "cell_type": "code",
   "execution_count": 134,
   "id": "7bfef416",
   "metadata": {},
   "outputs": [],
   "source": [
    "import numpy as np\n",
    "import pandas as pd\n",
    "import matplotlib.pyplot as plt\n",
    "import seaborn as sns\n",
    "from sklearn.model_selection import train_test_split\n",
    "from sklearn.preprocessing import LabelEncoder, OneHotEncoder\n",
    "from sklearn.preprocessing import MinMaxScaler\n",
    "from sklearn.linear_model import LinearRegression\n",
    "from sklearn.ensemble import RandomForestRegressor\n",
    "from sklearn.svm import SVR\n",
    "from sklearn.metrics import mean_squared_error, r2_score"
   ]
  },
  {
   "cell_type": "markdown",
   "id": "40fcb37b",
   "metadata": {},
   "source": [
    "# Data Collection and Processing"
   ]
  },
  {
   "cell_type": "code",
   "execution_count": 63,
   "id": "fbc3a1e5",
   "metadata": {},
   "outputs": [],
   "source": [
    "# loading the csv data to a Pandas DataFrame"
   ]
  },
  {
   "cell_type": "code",
   "execution_count": 64,
   "id": "45122157",
   "metadata": {},
   "outputs": [],
   "source": [
    "df=pd.read_csv(\"Car Dataset.csv\")"
   ]
  },
  {
   "cell_type": "code",
   "execution_count": 65,
   "id": "1c9a44e5",
   "metadata": {},
   "outputs": [],
   "source": [
    "# print first 5 rows of the dataset"
   ]
  },
  {
   "cell_type": "code",
   "execution_count": 66,
   "id": "a47699a8",
   "metadata": {},
   "outputs": [
    {
     "data": {
      "text/html": [
       "<div>\n",
       "<style scoped>\n",
       "    .dataframe tbody tr th:only-of-type {\n",
       "        vertical-align: middle;\n",
       "    }\n",
       "\n",
       "    .dataframe tbody tr th {\n",
       "        vertical-align: top;\n",
       "    }\n",
       "\n",
       "    .dataframe thead th {\n",
       "        text-align: right;\n",
       "    }\n",
       "</style>\n",
       "<table border=\"1\" class=\"dataframe\">\n",
       "  <thead>\n",
       "    <tr style=\"text-align: right;\">\n",
       "      <th></th>\n",
       "      <th>name</th>\n",
       "      <th>year</th>\n",
       "      <th>selling_price</th>\n",
       "      <th>km_driven</th>\n",
       "      <th>fuel</th>\n",
       "      <th>seller_type</th>\n",
       "      <th>transmission</th>\n",
       "      <th>owner</th>\n",
       "    </tr>\n",
       "  </thead>\n",
       "  <tbody>\n",
       "    <tr>\n",
       "      <th>0</th>\n",
       "      <td>Maruti 800 AC</td>\n",
       "      <td>2007</td>\n",
       "      <td>60000</td>\n",
       "      <td>70000</td>\n",
       "      <td>Petrol</td>\n",
       "      <td>Individual</td>\n",
       "      <td>Manual</td>\n",
       "      <td>First Owner</td>\n",
       "    </tr>\n",
       "    <tr>\n",
       "      <th>1</th>\n",
       "      <td>Maruti Wagon R LXI Minor</td>\n",
       "      <td>2007</td>\n",
       "      <td>135000</td>\n",
       "      <td>50000</td>\n",
       "      <td>Petrol</td>\n",
       "      <td>Individual</td>\n",
       "      <td>Manual</td>\n",
       "      <td>First Owner</td>\n",
       "    </tr>\n",
       "    <tr>\n",
       "      <th>2</th>\n",
       "      <td>Hyundai Verna 1.6 SX</td>\n",
       "      <td>2012</td>\n",
       "      <td>600000</td>\n",
       "      <td>100000</td>\n",
       "      <td>Diesel</td>\n",
       "      <td>Individual</td>\n",
       "      <td>Manual</td>\n",
       "      <td>First Owner</td>\n",
       "    </tr>\n",
       "    <tr>\n",
       "      <th>3</th>\n",
       "      <td>Datsun RediGO T Option</td>\n",
       "      <td>2017</td>\n",
       "      <td>250000</td>\n",
       "      <td>46000</td>\n",
       "      <td>Petrol</td>\n",
       "      <td>Individual</td>\n",
       "      <td>Manual</td>\n",
       "      <td>First Owner</td>\n",
       "    </tr>\n",
       "    <tr>\n",
       "      <th>4</th>\n",
       "      <td>Honda Amaze VX i-DTEC</td>\n",
       "      <td>2014</td>\n",
       "      <td>450000</td>\n",
       "      <td>141000</td>\n",
       "      <td>Diesel</td>\n",
       "      <td>Individual</td>\n",
       "      <td>Manual</td>\n",
       "      <td>Second Owner</td>\n",
       "    </tr>\n",
       "  </tbody>\n",
       "</table>\n",
       "</div>"
      ],
      "text/plain": [
       "                       name  year  selling_price  km_driven    fuel  \\\n",
       "0             Maruti 800 AC  2007          60000      70000  Petrol   \n",
       "1  Maruti Wagon R LXI Minor  2007         135000      50000  Petrol   \n",
       "2      Hyundai Verna 1.6 SX  2012         600000     100000  Diesel   \n",
       "3    Datsun RediGO T Option  2017         250000      46000  Petrol   \n",
       "4     Honda Amaze VX i-DTEC  2014         450000     141000  Diesel   \n",
       "\n",
       "  seller_type transmission         owner  \n",
       "0  Individual       Manual   First Owner  \n",
       "1  Individual       Manual   First Owner  \n",
       "2  Individual       Manual   First Owner  \n",
       "3  Individual       Manual   First Owner  \n",
       "4  Individual       Manual  Second Owner  "
      ]
     },
     "execution_count": 66,
     "metadata": {},
     "output_type": "execute_result"
    }
   ],
   "source": [
    "df.head()"
   ]
  },
  {
   "cell_type": "code",
   "execution_count": 67,
   "id": "c456e620",
   "metadata": {},
   "outputs": [],
   "source": [
    "# print last 5 rows of the dataset"
   ]
  },
  {
   "cell_type": "code",
   "execution_count": 68,
   "id": "c0553422",
   "metadata": {},
   "outputs": [
    {
     "data": {
      "text/html": [
       "<div>\n",
       "<style scoped>\n",
       "    .dataframe tbody tr th:only-of-type {\n",
       "        vertical-align: middle;\n",
       "    }\n",
       "\n",
       "    .dataframe tbody tr th {\n",
       "        vertical-align: top;\n",
       "    }\n",
       "\n",
       "    .dataframe thead th {\n",
       "        text-align: right;\n",
       "    }\n",
       "</style>\n",
       "<table border=\"1\" class=\"dataframe\">\n",
       "  <thead>\n",
       "    <tr style=\"text-align: right;\">\n",
       "      <th></th>\n",
       "      <th>name</th>\n",
       "      <th>year</th>\n",
       "      <th>selling_price</th>\n",
       "      <th>km_driven</th>\n",
       "      <th>fuel</th>\n",
       "      <th>seller_type</th>\n",
       "      <th>transmission</th>\n",
       "      <th>owner</th>\n",
       "    </tr>\n",
       "  </thead>\n",
       "  <tbody>\n",
       "    <tr>\n",
       "      <th>4335</th>\n",
       "      <td>Hyundai i20 Magna 1.4 CRDi (Diesel)</td>\n",
       "      <td>2014</td>\n",
       "      <td>409999</td>\n",
       "      <td>80000</td>\n",
       "      <td>Diesel</td>\n",
       "      <td>Individual</td>\n",
       "      <td>Manual</td>\n",
       "      <td>Second Owner</td>\n",
       "    </tr>\n",
       "    <tr>\n",
       "      <th>4336</th>\n",
       "      <td>Hyundai i20 Magna 1.4 CRDi</td>\n",
       "      <td>2014</td>\n",
       "      <td>409999</td>\n",
       "      <td>80000</td>\n",
       "      <td>Diesel</td>\n",
       "      <td>Individual</td>\n",
       "      <td>Manual</td>\n",
       "      <td>Second Owner</td>\n",
       "    </tr>\n",
       "    <tr>\n",
       "      <th>4337</th>\n",
       "      <td>Maruti 800 AC BSIII</td>\n",
       "      <td>2009</td>\n",
       "      <td>110000</td>\n",
       "      <td>83000</td>\n",
       "      <td>Petrol</td>\n",
       "      <td>Individual</td>\n",
       "      <td>Manual</td>\n",
       "      <td>Second Owner</td>\n",
       "    </tr>\n",
       "    <tr>\n",
       "      <th>4338</th>\n",
       "      <td>Hyundai Creta 1.6 CRDi SX Option</td>\n",
       "      <td>2016</td>\n",
       "      <td>865000</td>\n",
       "      <td>90000</td>\n",
       "      <td>Diesel</td>\n",
       "      <td>Individual</td>\n",
       "      <td>Manual</td>\n",
       "      <td>First Owner</td>\n",
       "    </tr>\n",
       "    <tr>\n",
       "      <th>4339</th>\n",
       "      <td>Renault KWID RXT</td>\n",
       "      <td>2016</td>\n",
       "      <td>225000</td>\n",
       "      <td>40000</td>\n",
       "      <td>Petrol</td>\n",
       "      <td>Individual</td>\n",
       "      <td>Manual</td>\n",
       "      <td>First Owner</td>\n",
       "    </tr>\n",
       "  </tbody>\n",
       "</table>\n",
       "</div>"
      ],
      "text/plain": [
       "                                     name  year  selling_price  km_driven  \\\n",
       "4335  Hyundai i20 Magna 1.4 CRDi (Diesel)  2014         409999      80000   \n",
       "4336           Hyundai i20 Magna 1.4 CRDi  2014         409999      80000   \n",
       "4337                  Maruti 800 AC BSIII  2009         110000      83000   \n",
       "4338     Hyundai Creta 1.6 CRDi SX Option  2016         865000      90000   \n",
       "4339                     Renault KWID RXT  2016         225000      40000   \n",
       "\n",
       "        fuel seller_type transmission         owner  \n",
       "4335  Diesel  Individual       Manual  Second Owner  \n",
       "4336  Diesel  Individual       Manual  Second Owner  \n",
       "4337  Petrol  Individual       Manual  Second Owner  \n",
       "4338  Diesel  Individual       Manual   First Owner  \n",
       "4339  Petrol  Individual       Manual   First Owner  "
      ]
     },
     "execution_count": 68,
     "metadata": {},
     "output_type": "execute_result"
    }
   ],
   "source": [
    "df.tail()"
   ]
  },
  {
   "cell_type": "code",
   "execution_count": 69,
   "id": "2b0cfeae",
   "metadata": {},
   "outputs": [],
   "source": [
    "# number of rows and columns in the dataset"
   ]
  },
  {
   "cell_type": "code",
   "execution_count": 70,
   "id": "b0e56322",
   "metadata": {},
   "outputs": [
    {
     "data": {
      "text/plain": [
       "(4340, 8)"
      ]
     },
     "execution_count": 70,
     "metadata": {},
     "output_type": "execute_result"
    }
   ],
   "source": [
    "df.shape"
   ]
  },
  {
   "cell_type": "code",
   "execution_count": 71,
   "id": "5ceb73b4",
   "metadata": {},
   "outputs": [
    {
     "data": {
      "text/plain": [
       "Index(['name', 'year', 'selling_price', 'km_driven', 'fuel', 'seller_type',\n",
       "       'transmission', 'owner'],\n",
       "      dtype='object')"
      ]
     },
     "execution_count": 71,
     "metadata": {},
     "output_type": "execute_result"
    }
   ],
   "source": [
    "df.columns"
   ]
  },
  {
   "cell_type": "code",
   "execution_count": 72,
   "id": "14518cf6",
   "metadata": {},
   "outputs": [],
   "source": [
    "# checking for missing values"
   ]
  },
  {
   "cell_type": "code",
   "execution_count": 73,
   "id": "850d66a9",
   "metadata": {},
   "outputs": [
    {
     "data": {
      "text/plain": [
       "name             0\n",
       "year             0\n",
       "selling_price    0\n",
       "km_driven        0\n",
       "fuel             0\n",
       "seller_type      0\n",
       "transmission     0\n",
       "owner            0\n",
       "dtype: int64"
      ]
     },
     "execution_count": 73,
     "metadata": {},
     "output_type": "execute_result"
    }
   ],
   "source": [
    "df.isnull().sum()"
   ]
  },
  {
   "cell_type": "code",
   "execution_count": 74,
   "id": "e5e3edd7",
   "metadata": {},
   "outputs": [],
   "source": [
    "# checking the distribution of 'fuel','seller_type','owner' Variables."
   ]
  },
  {
   "cell_type": "code",
   "execution_count": 75,
   "id": "c13e1a95",
   "metadata": {},
   "outputs": [
    {
     "data": {
      "text/plain": [
       "Diesel      2153\n",
       "Petrol      2123\n",
       "CNG           40\n",
       "LPG           23\n",
       "Electric       1\n",
       "Name: fuel, dtype: int64"
      ]
     },
     "execution_count": 75,
     "metadata": {},
     "output_type": "execute_result"
    }
   ],
   "source": [
    "df['fuel'].value_counts()"
   ]
  },
  {
   "cell_type": "code",
   "execution_count": 76,
   "id": "e6d0e7bf",
   "metadata": {},
   "outputs": [
    {
     "data": {
      "text/plain": [
       "Individual          3244\n",
       "Dealer               994\n",
       "Trustmark Dealer     102\n",
       "Name: seller_type, dtype: int64"
      ]
     },
     "execution_count": 76,
     "metadata": {},
     "output_type": "execute_result"
    }
   ],
   "source": [
    "df['seller_type'].value_counts()"
   ]
  },
  {
   "cell_type": "code",
   "execution_count": 77,
   "id": "768004bd",
   "metadata": {},
   "outputs": [
    {
     "data": {
      "text/plain": [
       "First Owner             2832\n",
       "Second Owner            1106\n",
       "Third Owner              304\n",
       "Fourth & Above Owner      81\n",
       "Test Drive Car            17\n",
       "Name: owner, dtype: int64"
      ]
     },
     "execution_count": 77,
     "metadata": {},
     "output_type": "execute_result"
    }
   ],
   "source": [
    "df['owner'].value_counts()"
   ]
  },
  {
   "cell_type": "code",
   "execution_count": 78,
   "id": "4b8960e2",
   "metadata": {},
   "outputs": [
    {
     "data": {
      "text/plain": [
       "Manual       3892\n",
       "Automatic     448\n",
       "Name: transmission, dtype: int64"
      ]
     },
     "execution_count": 78,
     "metadata": {},
     "output_type": "execute_result"
    }
   ],
   "source": [
    "df['transmission'].value_counts()"
   ]
  },
  {
   "cell_type": "code",
   "execution_count": 79,
   "id": "5719291c",
   "metadata": {},
   "outputs": [],
   "source": [
    "df1=df.copy()"
   ]
  },
  {
   "cell_type": "code",
   "execution_count": 80,
   "id": "b6ff85bc",
   "metadata": {},
   "outputs": [],
   "source": [
    "# getting some info about the data"
   ]
  },
  {
   "cell_type": "code",
   "execution_count": 81,
   "id": "7250f26d",
   "metadata": {},
   "outputs": [
    {
     "name": "stdout",
     "output_type": "stream",
     "text": [
      "<class 'pandas.core.frame.DataFrame'>\n",
      "RangeIndex: 4340 entries, 0 to 4339\n",
      "Data columns (total 8 columns):\n",
      " #   Column         Non-Null Count  Dtype \n",
      "---  ------         --------------  ----- \n",
      " 0   name           4340 non-null   object\n",
      " 1   year           4340 non-null   int64 \n",
      " 2   selling_price  4340 non-null   int64 \n",
      " 3   km_driven      4340 non-null   int64 \n",
      " 4   fuel           4340 non-null   object\n",
      " 5   seller_type    4340 non-null   object\n",
      " 6   transmission   4340 non-null   object\n",
      " 7   owner          4340 non-null   object\n",
      "dtypes: int64(3), object(5)\n",
      "memory usage: 271.4+ KB\n"
     ]
    }
   ],
   "source": [
    "df1.info()"
   ]
  },
  {
   "cell_type": "code",
   "execution_count": 82,
   "id": "8180afbd",
   "metadata": {},
   "outputs": [],
   "source": [
    "# statistical measures about the data"
   ]
  },
  {
   "cell_type": "code",
   "execution_count": 83,
   "id": "e19a2424",
   "metadata": {},
   "outputs": [
    {
     "data": {
      "text/html": [
       "<div>\n",
       "<style scoped>\n",
       "    .dataframe tbody tr th:only-of-type {\n",
       "        vertical-align: middle;\n",
       "    }\n",
       "\n",
       "    .dataframe tbody tr th {\n",
       "        vertical-align: top;\n",
       "    }\n",
       "\n",
       "    .dataframe thead th {\n",
       "        text-align: right;\n",
       "    }\n",
       "</style>\n",
       "<table border=\"1\" class=\"dataframe\">\n",
       "  <thead>\n",
       "    <tr style=\"text-align: right;\">\n",
       "      <th></th>\n",
       "      <th>year</th>\n",
       "      <th>selling_price</th>\n",
       "      <th>km_driven</th>\n",
       "    </tr>\n",
       "  </thead>\n",
       "  <tbody>\n",
       "    <tr>\n",
       "      <th>count</th>\n",
       "      <td>4340.000000</td>\n",
       "      <td>4.340000e+03</td>\n",
       "      <td>4340.000000</td>\n",
       "    </tr>\n",
       "    <tr>\n",
       "      <th>mean</th>\n",
       "      <td>2013.090783</td>\n",
       "      <td>5.041273e+05</td>\n",
       "      <td>66215.777419</td>\n",
       "    </tr>\n",
       "    <tr>\n",
       "      <th>std</th>\n",
       "      <td>4.215344</td>\n",
       "      <td>5.785487e+05</td>\n",
       "      <td>46644.102194</td>\n",
       "    </tr>\n",
       "    <tr>\n",
       "      <th>min</th>\n",
       "      <td>1992.000000</td>\n",
       "      <td>2.000000e+04</td>\n",
       "      <td>1.000000</td>\n",
       "    </tr>\n",
       "    <tr>\n",
       "      <th>25%</th>\n",
       "      <td>2011.000000</td>\n",
       "      <td>2.087498e+05</td>\n",
       "      <td>35000.000000</td>\n",
       "    </tr>\n",
       "    <tr>\n",
       "      <th>50%</th>\n",
       "      <td>2014.000000</td>\n",
       "      <td>3.500000e+05</td>\n",
       "      <td>60000.000000</td>\n",
       "    </tr>\n",
       "    <tr>\n",
       "      <th>75%</th>\n",
       "      <td>2016.000000</td>\n",
       "      <td>6.000000e+05</td>\n",
       "      <td>90000.000000</td>\n",
       "    </tr>\n",
       "    <tr>\n",
       "      <th>max</th>\n",
       "      <td>2020.000000</td>\n",
       "      <td>8.900000e+06</td>\n",
       "      <td>806599.000000</td>\n",
       "    </tr>\n",
       "  </tbody>\n",
       "</table>\n",
       "</div>"
      ],
      "text/plain": [
       "              year  selling_price      km_driven\n",
       "count  4340.000000   4.340000e+03    4340.000000\n",
       "mean   2013.090783   5.041273e+05   66215.777419\n",
       "std       4.215344   5.785487e+05   46644.102194\n",
       "min    1992.000000   2.000000e+04       1.000000\n",
       "25%    2011.000000   2.087498e+05   35000.000000\n",
       "50%    2014.000000   3.500000e+05   60000.000000\n",
       "75%    2016.000000   6.000000e+05   90000.000000\n",
       "max    2020.000000   8.900000e+06  806599.000000"
      ]
     },
     "execution_count": 83,
     "metadata": {},
     "output_type": "execute_result"
    }
   ],
   "source": [
    "df1.describe()"
   ]
  },
  {
   "cell_type": "markdown",
   "id": "517f5bbd",
   "metadata": {},
   "source": [
    "# Exploratory Data Analysis"
   ]
  },
  {
   "cell_type": "code",
   "execution_count": 84,
   "id": "b2bc4db8",
   "metadata": {},
   "outputs": [],
   "source": [
    "#checking the distribution of data in numerical columns."
   ]
  },
  {
   "cell_type": "code",
   "execution_count": 85,
   "id": "a04f8fa6",
   "metadata": {},
   "outputs": [
    {
     "data": {
      "image/png": "[encoded data removed]",
      "text/plain": [
       "<Figure size 1500x500 with 1 Axes>"
      ]
     },
     "metadata": {},
     "output_type": "display_data"
    },
    {
     "data": {
      "image/png": "[encoded data removed]",
      "text/plain": [
       "<Figure size 640x480 with 1 Axes>"
      ]
     },
     "metadata": {},
     "output_type": "display_data"
    },
    {
     "data": {
      "image/png": "[encoded data removed]",
      "text/plain": [
       "<Figure size 640x480 with 1 Axes>"
      ]
     },
     "metadata": {},
     "output_type": "display_data"
    }
   ],
   "source": [
    "numerical_features = df1.select_dtypes(include='int64')\n",
    "\n",
    "\n",
    "plt.figure(figsize=(15, 5))\n",
    "for column in numerical_features.columns:\n",
    "    sns.histplot(df1[column], kde=True)\n",
    "    plt.title(f'Distribution of {column}')\n",
    "    plt.xlabel(column)\n",
    "    plt.ylabel('Frequency')\n",
    "    plt.show()"
   ]
  },
  {
   "cell_type": "code",
   "execution_count": 86,
   "id": "85e723bb",
   "metadata": {},
   "outputs": [
    {
     "data": {
      "image/png": "[encoded data removed]",
      "text/plain": [
       "<Figure size 750x750 with 12 Axes>"
      ]
     },
     "metadata": {},
     "output_type": "display_data"
    }
   ],
   "source": [
    "numerical_features = df1.select_dtypes(include='int64')\n",
    "\n",
    "sns.pairplot(data=numerical_features)\n",
    "plt.show()"
   ]
  },
  {
   "cell_type": "markdown",
   "id": "f68ca8f0",
   "metadata": {},
   "source": [
    "# Interpreting the correlation coefficients:"
   ]
  },
  {
   "cell_type": "code",
   "execution_count": 87,
   "id": "0267b52c",
   "metadata": {},
   "outputs": [
    {
     "name": "stdout",
     "output_type": "stream",
     "text": [
      "Correlation Matrix:\n",
      "               selling_price      year  km_driven\n",
      "selling_price       1.000000  0.413922  -0.192289\n",
      "year                0.413922  1.000000  -0.419688\n",
      "km_driven          -0.192289 -0.419688   1.000000\n"
     ]
    }
   ],
   "source": [
    "correlation = df1[['selling_price', 'year', 'km_driven']].corr()\n",
    "\n",
    "print(\"Correlation Matrix:\")\n",
    "print(correlation)"
   ]
  },
  {
   "cell_type": "markdown",
   "id": "63b12052",
   "metadata": {},
   "source": [
    "Selling price and year have a positive correlation of approximately 0.41, indicating that as the year of the car increases, the selling price tends to increase as well, but the correlation is not very strong.\n",
    "\n",
    "Selling price and kilometers driven have a weak negative correlation of approximately -0.19, suggesting that as the kilometers driven increases, the selling price tends to decrease slightly, but again, the correlation is not very strong.\n",
    "\n",
    "Year and kilometers driven have a negative correlation of approximately -0.42, indicating that newer cars tend to have fewer kilometers driven, which is a logical expectation."
   ]
  },
  {
   "cell_type": "markdown",
   "id": "87041b96",
   "metadata": {},
   "source": [
    "# Outlier Detection and Treatment"
   ]
  },
  {
   "cell_type": "markdown",
   "id": "ad93ddb1",
   "metadata": {},
   "source": [
    "Outliers may sometimes represent legitimate extreme values in the data, such as unusually high or low prices for certain cars. \n",
    "Removing them could lead to a loss of important information. If outliers are due to errors, it's often appropriate to correct or remove them. However, if they represent valid but extreme observations, removing them may not be appropriate.Removing outliers can lead to a reduction in sample size, which might affect the analysis or introduce bias if the outliers are not random."
   ]
  },
  {
   "cell_type": "markdown",
   "id": "7d23fe3c",
   "metadata": {},
   "source": [
    "# Feature Selection and Engineering"
   ]
  },
  {
   "cell_type": "code",
   "execution_count": 88,
   "id": "9e8abf11",
   "metadata": {},
   "outputs": [],
   "source": [
    "#Encoding Categorical Variables such as 'fuel','seller_type','transmission','owner' using Label Encoder."
   ]
  },
  {
   "cell_type": "code",
   "execution_count": 89,
   "id": "c52fd161",
   "metadata": {},
   "outputs": [],
   "source": [
    "label_encoder = LabelEncoder()\n",
    "df1[\"fuel\"] = label_encoder.fit_transform(df1[\"fuel\"])\n",
    "df1[\"seller_type\"] = label_encoder.fit_transform(df1[\"seller_type\"])\n",
    "df1[\"transmission\"] = label_encoder.fit_transform(df1[\"transmission\"])\n",
    "df1[\"owner\"] = label_encoder.fit_transform(df1[\"owner\"])"
   ]
  },
  {
   "cell_type": "code",
   "execution_count": 90,
   "id": "d88256aa",
   "metadata": {},
   "outputs": [
    {
     "data": {
      "text/html": [
       "<div>\n",
       "<style scoped>\n",
       "    .dataframe tbody tr th:only-of-type {\n",
       "        vertical-align: middle;\n",
       "    }\n",
       "\n",
       "    .dataframe tbody tr th {\n",
       "        vertical-align: top;\n",
       "    }\n",
       "\n",
       "    .dataframe thead th {\n",
       "        text-align: right;\n",
       "    }\n",
       "</style>\n",
       "<table border=\"1\" class=\"dataframe\">\n",
       "  <thead>\n",
       "    <tr style=\"text-align: right;\">\n",
       "      <th></th>\n",
       "      <th>name</th>\n",
       "      <th>year</th>\n",
       "      <th>selling_price</th>\n",
       "      <th>km_driven</th>\n",
       "      <th>fuel</th>\n",
       "      <th>seller_type</th>\n",
       "      <th>transmission</th>\n",
       "      <th>owner</th>\n",
       "    </tr>\n",
       "  </thead>\n",
       "  <tbody>\n",
       "    <tr>\n",
       "      <th>0</th>\n",
       "      <td>Maruti 800 AC</td>\n",
       "      <td>2007</td>\n",
       "      <td>60000</td>\n",
       "      <td>70000</td>\n",
       "      <td>4</td>\n",
       "      <td>1</td>\n",
       "      <td>1</td>\n",
       "      <td>0</td>\n",
       "    </tr>\n",
       "    <tr>\n",
       "      <th>1</th>\n",
       "      <td>Maruti Wagon R LXI Minor</td>\n",
       "      <td>2007</td>\n",
       "      <td>135000</td>\n",
       "      <td>50000</td>\n",
       "      <td>4</td>\n",
       "      <td>1</td>\n",
       "      <td>1</td>\n",
       "      <td>0</td>\n",
       "    </tr>\n",
       "    <tr>\n",
       "      <th>2</th>\n",
       "      <td>Hyundai Verna 1.6 SX</td>\n",
       "      <td>2012</td>\n",
       "      <td>600000</td>\n",
       "      <td>100000</td>\n",
       "      <td>1</td>\n",
       "      <td>1</td>\n",
       "      <td>1</td>\n",
       "      <td>0</td>\n",
       "    </tr>\n",
       "    <tr>\n",
       "      <th>3</th>\n",
       "      <td>Datsun RediGO T Option</td>\n",
       "      <td>2017</td>\n",
       "      <td>250000</td>\n",
       "      <td>46000</td>\n",
       "      <td>4</td>\n",
       "      <td>1</td>\n",
       "      <td>1</td>\n",
       "      <td>0</td>\n",
       "    </tr>\n",
       "    <tr>\n",
       "      <th>4</th>\n",
       "      <td>Honda Amaze VX i-DTEC</td>\n",
       "      <td>2014</td>\n",
       "      <td>450000</td>\n",
       "      <td>141000</td>\n",
       "      <td>1</td>\n",
       "      <td>1</td>\n",
       "      <td>1</td>\n",
       "      <td>2</td>\n",
       "    </tr>\n",
       "  </tbody>\n",
       "</table>\n",
       "</div>"
      ],
      "text/plain": [
       "                       name  year  selling_price  km_driven  fuel  \\\n",
       "0             Maruti 800 AC  2007          60000      70000     4   \n",
       "1  Maruti Wagon R LXI Minor  2007         135000      50000     4   \n",
       "2      Hyundai Verna 1.6 SX  2012         600000     100000     1   \n",
       "3    Datsun RediGO T Option  2017         250000      46000     4   \n",
       "4     Honda Amaze VX i-DTEC  2014         450000     141000     1   \n",
       "\n",
       "   seller_type  transmission  owner  \n",
       "0            1             1      0  \n",
       "1            1             1      0  \n",
       "2            1             1      0  \n",
       "3            1             1      0  \n",
       "4            1             1      2  "
      ]
     },
     "execution_count": 90,
     "metadata": {},
     "output_type": "execute_result"
    }
   ],
   "source": [
    "df1.head()"
   ]
  },
  {
   "cell_type": "code",
   "execution_count": 91,
   "id": "c8af67a8",
   "metadata": {},
   "outputs": [],
   "source": [
    "#Feature Scaling to get all the values in the same range. Two features 'year' and 'km_driven'are scaled \n",
    "#using MinMaxScaler in the training dataset."
   ]
  },
  {
   "cell_type": "code",
   "execution_count": 92,
   "id": "d4a2069a",
   "metadata": {},
   "outputs": [],
   "source": [
    "numerical_features = [\"year\", \"km_driven\"]\n",
    "scaler = MinMaxScaler()\n",
    "\n",
    "df1[numerical_features] = scaler.fit_transform(df1[numerical_features])"
   ]
  },
  {
   "cell_type": "code",
   "execution_count": 93,
   "id": "4259439f",
   "metadata": {},
   "outputs": [
    {
     "data": {
      "text/plain": [
       "(name             Volvo XC60 D5 Inscription\n",
       " year                                   1.0\n",
       " selling_price                      8900000\n",
       " km_driven                              1.0\n",
       " fuel                                     4\n",
       " seller_type                              2\n",
       " transmission                             1\n",
       " owner                                    4\n",
       " dtype: object,\n",
       " name             Ambassador CLASSIC 1500 DSL AC\n",
       " year                                        0.0\n",
       " selling_price                             20000\n",
       " km_driven                                   0.0\n",
       " fuel                                          0\n",
       " seller_type                                   0\n",
       " transmission                                  0\n",
       " owner                                         0\n",
       " dtype: object)"
      ]
     },
     "execution_count": 93,
     "metadata": {},
     "output_type": "execute_result"
    }
   ],
   "source": [
    "df1.max(),df1.min()"
   ]
  },
  {
   "cell_type": "code",
   "execution_count": 94,
   "id": "d1846a4e",
   "metadata": {},
   "outputs": [],
   "source": [
    "#splitting the Dataset into X and y.\n",
    "#Drop the column 'name' as it is identifier column does not help to improve the performance. \n",
    "#and there by reducing the complexity of the model."
   ]
  },
  {
   "cell_type": "code",
   "execution_count": 95,
   "id": "c44c0dbf",
   "metadata": {},
   "outputs": [],
   "source": [
    "X = df1.drop(columns=[\"name\", \"selling_price\"])  \n",
    "y = df1[\"selling_price\"] "
   ]
  },
  {
   "cell_type": "code",
   "execution_count": 96,
   "id": "22efde8c",
   "metadata": {},
   "outputs": [
    {
     "data": {
      "text/html": [
       "<div>\n",
       "<style scoped>\n",
       "    .dataframe tbody tr th:only-of-type {\n",
       "        vertical-align: middle;\n",
       "    }\n",
       "\n",
       "    .dataframe tbody tr th {\n",
       "        vertical-align: top;\n",
       "    }\n",
       "\n",
       "    .dataframe thead th {\n",
       "        text-align: right;\n",
       "    }\n",
       "</style>\n",
       "<table border=\"1\" class=\"dataframe\">\n",
       "  <thead>\n",
       "    <tr style=\"text-align: right;\">\n",
       "      <th></th>\n",
       "      <th>year</th>\n",
       "      <th>km_driven</th>\n",
       "      <th>fuel</th>\n",
       "      <th>seller_type</th>\n",
       "      <th>transmission</th>\n",
       "      <th>owner</th>\n",
       "    </tr>\n",
       "  </thead>\n",
       "  <tbody>\n",
       "    <tr>\n",
       "      <th>0</th>\n",
       "      <td>0.535714</td>\n",
       "      <td>0.086783</td>\n",
       "      <td>4</td>\n",
       "      <td>1</td>\n",
       "      <td>1</td>\n",
       "      <td>0</td>\n",
       "    </tr>\n",
       "    <tr>\n",
       "      <th>1</th>\n",
       "      <td>0.535714</td>\n",
       "      <td>0.061988</td>\n",
       "      <td>4</td>\n",
       "      <td>1</td>\n",
       "      <td>1</td>\n",
       "      <td>0</td>\n",
       "    </tr>\n",
       "    <tr>\n",
       "      <th>2</th>\n",
       "      <td>0.714286</td>\n",
       "      <td>0.123976</td>\n",
       "      <td>1</td>\n",
       "      <td>1</td>\n",
       "      <td>1</td>\n",
       "      <td>0</td>\n",
       "    </tr>\n",
       "    <tr>\n",
       "      <th>3</th>\n",
       "      <td>0.892857</td>\n",
       "      <td>0.057028</td>\n",
       "      <td>4</td>\n",
       "      <td>1</td>\n",
       "      <td>1</td>\n",
       "      <td>0</td>\n",
       "    </tr>\n",
       "    <tr>\n",
       "      <th>4</th>\n",
       "      <td>0.785714</td>\n",
       "      <td>0.174807</td>\n",
       "      <td>1</td>\n",
       "      <td>1</td>\n",
       "      <td>1</td>\n",
       "      <td>2</td>\n",
       "    </tr>\n",
       "    <tr>\n",
       "      <th>...</th>\n",
       "      <td>...</td>\n",
       "      <td>...</td>\n",
       "      <td>...</td>\n",
       "      <td>...</td>\n",
       "      <td>...</td>\n",
       "      <td>...</td>\n",
       "    </tr>\n",
       "    <tr>\n",
       "      <th>4335</th>\n",
       "      <td>0.785714</td>\n",
       "      <td>0.099181</td>\n",
       "      <td>1</td>\n",
       "      <td>1</td>\n",
       "      <td>1</td>\n",
       "      <td>2</td>\n",
       "    </tr>\n",
       "    <tr>\n",
       "      <th>4336</th>\n",
       "      <td>0.785714</td>\n",
       "      <td>0.099181</td>\n",
       "      <td>1</td>\n",
       "      <td>1</td>\n",
       "      <td>1</td>\n",
       "      <td>2</td>\n",
       "    </tr>\n",
       "    <tr>\n",
       "      <th>4337</th>\n",
       "      <td>0.607143</td>\n",
       "      <td>0.102900</td>\n",
       "      <td>4</td>\n",
       "      <td>1</td>\n",
       "      <td>1</td>\n",
       "      <td>2</td>\n",
       "    </tr>\n",
       "    <tr>\n",
       "      <th>4338</th>\n",
       "      <td>0.857143</td>\n",
       "      <td>0.111579</td>\n",
       "      <td>1</td>\n",
       "      <td>1</td>\n",
       "      <td>1</td>\n",
       "      <td>0</td>\n",
       "    </tr>\n",
       "    <tr>\n",
       "      <th>4339</th>\n",
       "      <td>0.857143</td>\n",
       "      <td>0.049590</td>\n",
       "      <td>4</td>\n",
       "      <td>1</td>\n",
       "      <td>1</td>\n",
       "      <td>0</td>\n",
       "    </tr>\n",
       "  </tbody>\n",
       "</table>\n",
       "<p>4340 rows × 6 columns</p>\n",
       "</div>"
      ],
      "text/plain": [
       "          year  km_driven  fuel  seller_type  transmission  owner\n",
       "0     0.535714   0.086783     4            1             1      0\n",
       "1     0.535714   0.061988     4            1             1      0\n",
       "2     0.714286   0.123976     1            1             1      0\n",
       "3     0.892857   0.057028     4            1             1      0\n",
       "4     0.785714   0.174807     1            1             1      2\n",
       "...        ...        ...   ...          ...           ...    ...\n",
       "4335  0.785714   0.099181     1            1             1      2\n",
       "4336  0.785714   0.099181     1            1             1      2\n",
       "4337  0.607143   0.102900     4            1             1      2\n",
       "4338  0.857143   0.111579     1            1             1      0\n",
       "4339  0.857143   0.049590     4            1             1      0\n",
       "\n",
       "[4340 rows x 6 columns]"
      ]
     },
     "execution_count": 96,
     "metadata": {},
     "output_type": "execute_result"
    }
   ],
   "source": [
    "X"
   ]
  },
  {
   "cell_type": "code",
   "execution_count": 97,
   "id": "3c2ec68a",
   "metadata": {},
   "outputs": [
    {
     "data": {
      "text/plain": [
       "0        60000\n",
       "1       135000\n",
       "2       600000\n",
       "3       250000\n",
       "4       450000\n",
       "         ...  \n",
       "4335    409999\n",
       "4336    409999\n",
       "4337    110000\n",
       "4338    865000\n",
       "4339    225000\n",
       "Name: selling_price, Length: 4340, dtype: int64"
      ]
     },
     "execution_count": 97,
     "metadata": {},
     "output_type": "execute_result"
    }
   ],
   "source": [
    "y"
   ]
  },
  {
   "cell_type": "markdown",
   "id": "357b103c",
   "metadata": {},
   "source": [
    "# Split the data into training and testing sets"
   ]
  },
  {
   "cell_type": "code",
   "execution_count": 98,
   "id": "64351e66",
   "metadata": {},
   "outputs": [],
   "source": [
    "X_train, X_test, y_train, y_test = train_test_split(X, y, test_size=0.2, random_state=42)"
   ]
  },
  {
   "cell_type": "code",
   "execution_count": 99,
   "id": "ce0f2197",
   "metadata": {},
   "outputs": [
    {
     "data": {
      "text/plain": [
       "((3472, 6), (868, 6))"
      ]
     },
     "execution_count": 99,
     "metadata": {},
     "output_type": "execute_result"
    }
   ],
   "source": [
    "X_train.shape,X_test.shape"
   ]
  },
  {
   "cell_type": "code",
   "execution_count": 100,
   "id": "44acbdbf",
   "metadata": {},
   "outputs": [
    {
     "data": {
      "text/plain": [
       "((3472,), (868,))"
      ]
     },
     "execution_count": 100,
     "metadata": {},
     "output_type": "execute_result"
    }
   ],
   "source": [
    "y_train.shape,y_test.shape"
   ]
  },
  {
   "cell_type": "markdown",
   "id": "0bf25d12",
   "metadata": {},
   "source": [
    "# 1.Linear Regression Model"
   ]
  },
  {
   "cell_type": "markdown",
   "id": "79bff943",
   "metadata": {},
   "source": [
    "Linear regression is a statistical method used for modeling the relationship between a dependent variable and one or more independent variables. In the context of car price prediction, linear regression can be used to predict the selling price of a car based on various features or attributes such as the car's age, mileage, brand, model, and so on."
   ]
  },
  {
   "cell_type": "code",
   "execution_count": 101,
   "id": "f076af51",
   "metadata": {},
   "outputs": [],
   "source": [
    "# Model Training"
   ]
  },
  {
   "cell_type": "code",
   "execution_count": 102,
   "id": "b2519bd7",
   "metadata": {},
   "outputs": [
    {
     "data": {
      "text/html": [
       "<style>#sk-container-id-3 {color: black;background-color: white;}#sk-container-id-3 pre{padding: 0;}#sk-container-id-3 div.sk-toggleable {background-color: white;}#sk-container-id-3 label.sk-toggleable__label {cursor: pointer;display: block;width: 100%;margin-bottom: 0;padding: 0.3em;box-sizing: border-box;text-align: center;}#sk-container-id-3 label.sk-toggleable__label-arrow:before {content: \"▸\";float: left;margin-right: 0.25em;color: #696969;}#sk-container-id-3 label.sk-toggleable__label-arrow:hover:before {color: black;}#sk-container-id-3 div.sk-estimator:hover label.sk-toggleable__label-arrow:before {color: black;}#sk-container-id-3 div.sk-toggleable__content {max-height: 0;max-width: 0;overflow: hidden;text-align: left;background-color: #f0f8ff;}#sk-container-id-3 div.sk-toggleable__content pre {margin: 0.2em;color: black;border-radius: 0.25em;background-color: #f0f8ff;}#sk-container-id-3 input.sk-toggleable__control:checked~div.sk-toggleable__content {max-height: 200px;max-width: 100%;overflow: auto;}#sk-container-id-3 input.sk-toggleable__control:checked~label.sk-toggleable__label-arrow:before {content: \"▾\";}#sk-container-id-3 div.sk-estimator input.sk-toggleable__control:checked~label.sk-toggleable__label {background-color: #d4ebff;}#sk-container-id-3 div.sk-label input.sk-toggleable__control:checked~label.sk-toggleable__label {background-color: #d4ebff;}#sk-container-id-3 input.sk-hidden--visually {border: 0;clip: rect(1px 1px 1px 1px);clip: rect(1px, 1px, 1px, 1px);height: 1px;margin: -1px;overflow: hidden;padding: 0;position: absolute;width: 1px;}#sk-container-id-3 div.sk-estimator {font-family: monospace;background-color: #f0f8ff;border: 1px dotted black;border-radius: 0.25em;box-sizing: border-box;margin-bottom: 0.5em;}#sk-container-id-3 div.sk-estimator:hover {background-color: #d4ebff;}#sk-container-id-3 div.sk-parallel-item::after {content: \"\";width: 100%;border-bottom: 1px solid gray;flex-grow: 1;}#sk-container-id-3 div.sk-label:hover label.sk-toggleable__label {background-color: #d4ebff;}#sk-container-id-3 div.sk-serial::before {content: \"\";position: absolute;border-left: 1px solid gray;box-sizing: border-box;top: 0;bottom: 0;left: 50%;z-index: 0;}#sk-container-id-3 div.sk-serial {display: flex;flex-direction: column;align-items: center;background-color: white;padding-right: 0.2em;padding-left: 0.2em;position: relative;}#sk-container-id-3 div.sk-item {position: relative;z-index: 1;}#sk-container-id-3 div.sk-parallel {display: flex;align-items: stretch;justify-content: center;background-color: white;position: relative;}#sk-container-id-3 div.sk-item::before, #sk-container-id-3 div.sk-parallel-item::before {content: \"\";position: absolute;border-left: 1px solid gray;box-sizing: border-box;top: 0;bottom: 0;left: 50%;z-index: -1;}#sk-container-id-3 div.sk-parallel-item {display: flex;flex-direction: column;z-index: 1;position: relative;background-color: white;}#sk-container-id-3 div.sk-parallel-item:first-child::after {align-self: flex-end;width: 50%;}#sk-container-id-3 div.sk-parallel-item:last-child::after {align-self: flex-start;width: 50%;}#sk-container-id-3 div.sk-parallel-item:only-child::after {width: 0;}#sk-container-id-3 div.sk-dashed-wrapped {border: 1px dashed gray;margin: 0 0.4em 0.5em 0.4em;box-sizing: border-box;padding-bottom: 0.4em;background-color: white;}#sk-container-id-3 div.sk-label label {font-family: monospace;font-weight: bold;display: inline-block;line-height: 1.2em;}#sk-container-id-3 div.sk-label-container {text-align: center;}#sk-container-id-3 div.sk-container {/* jupyter's `normalize.less` sets `[hidden] { display: none; }` but bootstrap.min.css set `[hidden] { display: none !important; }` so we also need the `!important` here to be able to override the default hidden behavior on the sphinx rendered scikit-learn.org. See: https://github.com/scikit-learn/scikit-learn/issues/21755 */display: inline-block !important;position: relative;}#sk-container-id-3 div.sk-text-repr-fallback {display: none;}</style><div id=\"sk-container-id-3\" class=\"sk-top-container\"><div class=\"sk-text-repr-fallback\"><pre>LinearRegression()</pre><b>In a Jupyter environment, please rerun this cell to show the HTML representation or trust the notebook. <br />On GitHub, the HTML representation is unable to render, please try loading this page with nbviewer.org.</b></div><div class=\"sk-container\" hidden><div class=\"sk-item\"><div class=\"sk-estimator sk-toggleable\"><input class=\"sk-toggleable__control sk-hidden--visually\" id=\"sk-estimator-id-3\" type=\"checkbox\" checked><label for=\"sk-estimator-id-3\" class=\"sk-toggleable__label sk-toggleable__label-arrow\">LinearRegression</label><div class=\"sk-toggleable__content\"><pre>LinearRegression()</pre></div></div></div></div></div>"
      ],
      "text/plain": [
       "LinearRegression()"
      ]
     },
     "execution_count": 102,
     "metadata": {},
     "output_type": "execute_result"
    }
   ],
   "source": [
    "LR = LinearRegression()\n",
    "LR.fit(X_train, y_train)"
   ]
  },
  {
   "cell_type": "code",
   "execution_count": 103,
   "id": "4fbc8cc3",
   "metadata": {},
   "outputs": [],
   "source": [
    "#Predictions of the Model"
   ]
  },
  {
   "cell_type": "code",
   "execution_count": 104,
   "id": "87ecdfc7",
   "metadata": {},
   "outputs": [],
   "source": [
    "y_pred = LR.predict(X_test)"
   ]
  },
  {
   "cell_type": "code",
   "execution_count": 105,
   "id": "0d1fcf62",
   "metadata": {},
   "outputs": [
    {
     "data": {
      "text/plain": [
       "array([ 4.28311148e+05,  5.33032492e+05,  8.01938587e+04,  4.85673155e+05,\n",
       "        1.55288754e+06,  2.52722781e+05,  4.24441413e+05,  2.83777523e+05,\n",
       "        6.65430906e+05,  2.83844021e+05,  6.64454849e+05,  6.08507027e+05,\n",
       "        5.89814266e+05,  6.49794518e+04,  4.76973117e+05,  4.77171048e+05,\n",
       "        8.21306731e+05,  1.36226610e+06,  1.15904585e+05,  1.46702632e+06,\n",
       "        6.72541068e+05,  7.57426228e+05,  4.87462245e+05,  7.78277347e+05,\n",
       "        3.35158787e+05,  6.45736828e+05,  7.18851658e+05,  2.74092305e+05,\n",
       "        4.34594105e+05,  5.57011279e+05, -3.30146158e+04,  1.44367958e+06,\n",
       "        5.74356910e+05,  7.42090103e+05,  5.35117604e+05,  4.71494070e+05,\n",
       "        7.93915686e+05,  4.97887804e+05,  1.14747545e+05,  5.19781479e+05,\n",
       "        6.14460149e+05,  4.96323970e+05,  7.30621987e+05,  4.56898286e+05,\n",
       "        3.99192827e+05,  3.51537468e+05,  4.25513316e+05,  4.69179990e+05,\n",
       "        7.36575109e+05,  4.72724356e+05,  2.20779846e+05,  3.33330264e+05,\n",
       "        3.27508787e+05,  2.85674905e+05,  4.19143496e+05,  6.06600348e+05,\n",
       "        6.88919749e+05,  1.97342956e+05,  3.06463540e+05,  4.06918133e+05,\n",
       "        1.34837038e+04,  4.70337030e+05,  1.37417853e+06,  7.11807995e+05,\n",
       "        3.05814429e+03,  3.75772844e+05,  3.27508787e+05,  1.34111782e+05,\n",
       "        1.72498628e+05,  5.22464827e+05,  1.26688596e+06,  4.75139303e+05,\n",
       "       -1.77929748e+04,  1.50523218e+06,  2.88660467e+05,  7.53510233e+05,\n",
       "        3.09157555e+05,  6.96779606e+05,  4.66865354e+05,  6.78757801e+05,\n",
       "        5.22464827e+05,  2.27522233e+04,  2.00789745e+05,  5.40747406e+05,\n",
       "       -1.44704016e+05,  4.49485911e+05,  3.09157555e+05,  1.75490927e+05,\n",
       "        4.07049523e+05, -2.52754375e+05,  5.01743176e+05,  2.49925788e+05,\n",
       "        2.21640864e+05,  1.94836623e+05,  4.18215424e+05,  4.70337030e+05,\n",
       "        1.76859786e+06,  2.51430667e+05, -2.15463548e+03,  5.58225441e+05,\n",
       "        5.44500608e+05,  6.80255982e+05,  5.00296377e+04,  2.91628026e+05,\n",
       "        2.64197525e+05,  8.41571046e+05,  5.13526143e+05,  3.31843389e+05,\n",
       "        4.07789865e+05,  4.88960236e+05,  3.76403241e+05,  4.33805778e+05,\n",
       "        1.51706901e+06,  3.72778651e+05,  4.48147333e+05,  9.30766460e+04,\n",
       "        2.96244748e+05,  1.71671424e+05,  1.69075532e+06,  6.28746138e+05,\n",
       "        7.63518770e+05,  4.01544285e+05,  2.58540828e+05,  7.73064567e+05,\n",
       "        1.37227496e+06, -2.41171776e+05,  8.16879684e+04,  1.35631298e+06,\n",
       "        2.43534539e+05,  2.75249345e+05,  6.22875688e+05,  7.41047547e+05,\n",
       "        5.43292982e+05, -1.23852897e+05,  1.40135168e+06,  1.50768600e+06,\n",
       "        6.62115509e+05,  3.60134505e+05,  5.93198524e+05,  4.39066543e+05,\n",
       "        3.72778651e+05,  1.07877066e+05,  5.07566830e+05,  3.88283516e+05,\n",
       "        6.06600348e+05, -3.23887581e+04,  5.27792091e+05,  3.64600751e+05,\n",
       "        6.15756934e+05,  4.33107230e+05,  4.14199654e+05,  5.22347429e+05,\n",
       "        7.93915686e+05,  1.40619555e+06,  4.33107230e+05,  5.29904825e+05,\n",
       "        6.67582517e+05,  1.04321985e+05,  4.22385648e+05,  5.17992389e+05,\n",
       "        7.92758646e+05,  6.14460149e+05,  5.51468664e+05, -4.01247774e+04,\n",
       "        4.01836743e+05,  3.91894936e+05,  6.40263409e+05,  4.21135278e+05,\n",
       "        6.70921851e+04,  2.98623849e+04,  7.00777475e+04,  2.06742866e+05,\n",
       "       -7.36741525e+03,  3.22904705e+05,  4.14893834e+05,  5.20857897e+05,\n",
       "        5.51798500e+05,  3.83668972e+05,  1.76700292e+05,  6.04288818e+05,\n",
       "        3.18842773e+05,  1.34350009e+06,  8.09057741e+05,  4.33853763e+05,\n",
       "       -1.40608786e+04,  3.97232752e+05,  1.90364185e+05,  7.96908837e+05,\n",
       "       -1.75980695e+05,  1.49778172e+06,  5.01613708e+05,  1.44342535e+06,\n",
       "        7.63681564e+05,  3.48968604e+05,  2.91220431e+04,  6.85728686e+04,\n",
       "        4.42375749e+05,  2.75687064e+05,  1.55198955e+06,  5.55968723e+05,\n",
       "        1.38118258e+06,  6.17775547e+05,  5.09464212e+05,  4.86392067e+05,\n",
       "        2.30909383e+05,  5.38843509e+05, -6.09758965e+04,  5.05990199e+04,\n",
       "        5.55968723e+05,  7.88702907e+05,  1.44712002e+06,  1.33166035e+06,\n",
       "        5.49269068e+05,  1.82325952e+05,  3.54921725e+05, -3.74870538e+04,\n",
       "        2.22635434e+05,  3.49379110e+05,  1.40135168e+06,  3.75772844e+05,\n",
       "        7.73064567e+05,  1.04321985e+05, -1.07588700e+05,  4.76296343e+05,\n",
       "        3.86827974e+05, -6.31884318e+04,  1.63940303e+06,  4.73228982e+05,\n",
       "        6.53252585e+05,  4.81919629e+05,  2.11215304e+05,  1.16075691e+05,\n",
       "        6.78494190e+05,  5.17696367e+05,  2.25696603e+05,  8.68077193e+05,\n",
       "        1.69513066e+05,  1.56449783e+05,  6.78494190e+05,  4.92668832e+05,\n",
       "        3.23805155e+05,  9.55933827e+04,  3.64277107e+05,  4.23428204e+05,\n",
       "        1.44867183e+05,  6.93392187e+05,  6.68068630e+05,  2.36539215e+05,\n",
       "        5.06826488e+05,  4.23428204e+05,  3.45428056e+05,  1.74987880e+06,\n",
       "        3.86198404e+05,  4.18215424e+05,  6.22875688e+05,  2.75687064e+05,\n",
       "        5.93285444e+04,  3.75199635e+05,  5.77454733e+05,  2.52615328e+05,\n",
       "        6.59040729e+05,  3.42665282e+05,  1.40135168e+06,  2.95952936e+04,\n",
       "        2.05255991e+05,  3.99192827e+05,  6.20667499e+05,  4.62410660e+04,\n",
       "        1.48090938e+06,  1.62183841e+05,  6.04288818e+05,  4.74809468e+05,\n",
       "        4.07789865e+05,  7.75177446e+04,  3.95877429e+05,  1.74466602e+06,\n",
       "        7.01684649e+05,  3.74956896e+05,  8.33849722e+05,  6.14460149e+05,\n",
       "        1.41113086e+06,  4.00349867e+05,  6.02877549e+05,  3.51537468e+05,\n",
       "        3.05814429e+03,  4.34594105e+05,  6.82966628e+05,  3.04736934e+05,\n",
       "       -6.09758965e+04, -7.36741525e+03, -1.83090857e+05,  4.15027316e+05,\n",
       "        3.05814429e+03,  4.47603824e+04,  9.26661397e+04,  7.41047547e+05,\n",
       "        3.39283386e+05,  3.75772844e+05,  1.40135168e+06,  1.57042326e+06,\n",
       "        1.38443191e+06, -1.66359347e+04, -1.72665297e+05,  1.62563074e+06,\n",
       "        1.04321985e+05,  5.56379230e+05, -8.06699755e+04,  1.00352418e+06,\n",
       "        8.04341246e+05,  4.02987591e+05,  5.29574989e+05,  7.98037925e+05,\n",
       "        4.06632824e+05,  4.09618387e+05,  3.54477405e+05,  9.86982535e+05,\n",
       "        6.04034589e+05,  4.05145949e+05,  4.09618387e+05,  1.41113086e+06,\n",
       "        4.85235027e+05,  5.86781049e+05,  1.64935530e+06,  3.06526024e+05,\n",
       "       -2.46634535e+04,  3.58155065e+04,  6.18770117e+05,  7.88702907e+05,\n",
       "        2.42621704e+05,  3.17071449e+05,  6.40611777e+05,  2.62179870e+05,\n",
       "        4.38132279e+05,  7.40999561e+05,  1.20429142e+06, -2.93755744e+04,\n",
       "        3.27083656e+04,  4.08940713e+05,  5.97368747e+05,  2.43972666e+05,\n",
       "        4.65540948e+05,  1.53134385e+05,  4.24610504e+05,  4.79281906e+05,\n",
       "        3.58977465e+05,  4.01830551e+05,  5.44796630e+05,  5.07566830e+05,\n",
       "        7.24926949e+04,  5.52841056e+05,  4.36552913e+05,  4.46424741e+05,\n",
       "        7.65954406e+05,  4.92675024e+05,  1.56479792e+05,  6.96779606e+05,\n",
       "        6.29612375e+05,  2.29120293e+05,  4.10775427e+05,  5.49713388e+05,\n",
       "        1.41410423e+06,  2.03775307e+05,  6.92235147e+05,  2.64823785e+05,\n",
       "        3.11941186e+05,  1.37939131e+06,  2.39248690e+05,  6.06688655e+05,\n",
       "        6.72541068e+05,  5.39168434e+05,  4.61068510e+05,  4.23838710e+05,\n",
       "        5.35893111e+05,  3.12149310e+05,  4.91928491e+05,  2.91628026e+05,\n",
       "        5.38217651e+05,  6.46477169e+05,  5.79388707e+05,  3.86198404e+05,\n",
       "        6.21459657e+05,  2.87503427e+05,  2.18966680e+05,  4.19856216e+05,\n",
       "        4.59094170e+05,  3.95877429e+05,  1.45799352e+06,  2.67809348e+05,\n",
       "        7.71228471e+05,  1.46911143e+06,  5.59020784e+05,  2.54398226e+05,\n",
       "        6.70153742e+05,  6.93392187e+05,  1.50254883e+06,  7.30574002e+05,\n",
       "        6.35207112e+05,  4.94493087e+05,  3.07839644e+05,  3.19583115e+05,\n",
       "        6.04034589e+05,  1.41113086e+06,  4.53218007e+05,  7.09770868e+05,\n",
       "        6.24885708e+05,  4.45273893e+05, -3.74870538e+04,  3.25890267e+05,\n",
       "        5.59020784e+05,  1.32470996e+05,  5.79430269e+05,  4.55115389e+05,\n",
       "        5.85616514e+05,  7.07830040e+05,  5.32890387e+05,  5.03100584e+05,\n",
       "        1.73245162e+05,  3.00896546e+05,  7.41047547e+05,  1.65862382e+06,\n",
       "        4.43532789e+05,  2.75249345e+05,  5.02487406e+05,  5.08011150e+05,\n",
       "        1.45906369e+06,  6.23728668e+05,  4.12074615e+05, -1.77929748e+04,\n",
       "        1.53259286e+06,  6.04034589e+05,  3.15464708e+05,  1.25539608e+06,\n",
       "       -6.09758965e+04,  4.96821114e+05,  6.86094296e+05,  1.44446791e+06,\n",
       "        1.81767148e+05,  6.15454719e+05,  5.63931350e+05,  5.82697357e+05,\n",
       "       -1.41429369e+03,  5.86498868e+05,  2.65469870e+04,  5.87655908e+05,\n",
       "        3.17831669e+05,  3.89465816e+05,  3.66569132e+05,  1.53289124e+06,\n",
       "        5.28417949e+05,  1.44537348e+05,  7.20196428e+05,  1.14747545e+05,\n",
       "        4.50839057e+05,  1.18859760e+05,  2.48445104e+05,  2.51760502e+05,\n",
       "        3.85041364e+05,  6.24885708e+05,  2.39848067e+05,  4.27473715e+05,\n",
       "        4.53958349e+05,  4.82249465e+05,  5.19764410e+05, -2.34478312e+05,\n",
       "        5.12275076e+05,  4.91188149e+05,  5.97264492e+05,  5.83183470e+05,\n",
       "        6.29358146e+05,  5.56709065e+05,  3.35325398e+05,  3.69073189e+05,\n",
       "        3.40633019e+05,  8.36358266e+05,  4.73981061e+04,  6.82966628e+05,\n",
       "        2.00789745e+05,  6.04539947e+05,  2.75687064e+05, -7.39523169e+04,\n",
       "        3.92781922e+05,  5.48112028e+05,  1.46024223e+05,  5.44472987e+05,\n",
       "        3.39283386e+05, -7.25584961e+04,  7.01053688e+04,  7.83755951e+05,\n",
       "        6.22961036e+04,  3.18432267e+05,  5.72757911e+05,  2.47288064e+05,\n",
       "        1.38460409e+06,  1.38178919e+06,  7.55341116e+05,  8.25932707e+05,\n",
       "        2.15337543e+05,  5.59694628e+05,  6.24885708e+05,  6.99345309e+05,\n",
       "       -1.42576046e+05, -5.50227749e+04,  4.36755950e+05,  5.84358276e+05,\n",
       "        9.37814376e+05,  7.88702907e+05,  3.92391965e+04,  3.91404991e+05,\n",
       "        5.28417949e+05,  3.48968604e+05,  4.97443485e+05,  1.37417853e+06,\n",
       "        2.30909383e+05,  6.80255982e+05,  2.90147343e+05,  5.18738923e+05,\n",
       "        5.93609030e+05,  5.78236656e+04,  1.65456808e+06,  1.75087337e+06,\n",
       "        1.41221950e+05,  3.43755824e+05,  6.45736828e+05,  5.21156583e+05,\n",
       "        5.33847425e+05,  6.62115509e+05,  6.35311268e+05,  4.92675024e+05,\n",
       "        9.31559040e+05,  3.36343448e+05,  1.09951463e+05,  4.74809468e+05,\n",
       "        1.84274334e+05,  5.96924428e+05,  1.64696797e+06,  3.89060220e+05,\n",
       "        7.67851788e+05, -7.58738940e+04,  7.41047547e+05,  6.23212711e+05,\n",
       "        4.64383908e+05,  7.75222925e+05,  5.66804789e+05,  2.56226748e+05,\n",
       "        2.18004928e+05,  4.91188149e+05,  2.42491983e+05,  2.45123514e+05,\n",
       "        3.11322105e+05,  6.32151436e+05, -7.02444160e+04,  2.05938655e+04,\n",
       "        3.38543044e+05,  6.96779606e+05,  5.34047427e+05,  1.91690034e+05,\n",
       "        1.41551785e+05,  7.01784735e+05,  2.56226748e+05,  4.24168546e+05,\n",
       "        6.22752611e+05,  1.58427554e+06,  3.31245152e+05,  1.30485766e+06,\n",
       "        5.32890387e+05,  8.68762234e+03,  5.99591244e+05,  2.76546130e+05,\n",
       "        1.94368254e+04,  4.48147333e+05,  1.30092605e+06,  7.43900767e+04,\n",
       "        1.66383660e+06,  3.60388734e+05,  6.82966628e+05,  4.84077987e+05,\n",
       "        2.69400479e+05,  4.48005227e+05,  2.96100464e+05,  4.45019665e+05,\n",
       "        1.47181263e+05,  4.74809468e+05,  6.63010909e+05,  5.60851668e+05,\n",
       "        3.58647629e+05,  1.61245864e+05,  3.58155065e+04,  6.11888924e+05,\n",
       "        3.93239706e+05,  4.92345189e+05,  7.93982382e+05,  5.21307787e+05,\n",
       "        2.87053448e+04,  4.07789865e+05,  1.90364185e+05,  2.08160882e+05,\n",
       "        7.86747847e+04,  5.55760212e+05,  5.13526143e+05,  1.45178422e+06,\n",
       "        3.22355123e+05,  3.80985624e+05,  3.92453739e+05,  2.58540828e+05,\n",
       "        4.33107230e+05,  1.49429581e+04,  3.22574869e+05,  4.23428204e+05,\n",
       "        4.59567463e+05,  2.60708535e+05,  3.44750394e+05,  1.82023738e+05,\n",
       "        7.48075389e+05, -1.42576046e+05,  5.85128598e+05,  7.36575109e+05,\n",
       "        8.15507147e+05,  9.07543948e+05,  4.97887804e+05,  4.54656897e+05,\n",
       "        5.65647749e+05,  8.20974156e+05,  7.14243306e+05,  1.60440448e+06,\n",
       "        4.34594105e+05,  6.24885708e+05,  8.34708662e+04,  3.39283386e+05,\n",
       "       -9.39209887e+04,  5.38843509e+05,  1.50351578e+06,  3.86608910e+05,\n",
       "        7.58492608e+05,  5.12483588e+05,  5.32890387e+05,  5.80435801e+05,\n",
       "        6.62369737e+05,  2.91518081e+05,  4.37579668e+05, -1.81933816e+05,\n",
       "        6.45736828e+05,  5.08313364e+05,  2.33547107e+05,  5.53210747e+05,\n",
       "        9.00284160e+04,  4.85235027e+05,  2.42815626e+05,  8.03495438e+03,\n",
       "        8.29060375e+05,  3.86198404e+05,  1.84411064e+05,  5.68963147e+05,\n",
       "        2.92940131e+05,  3.39773330e+05,  2.43972666e+05,  2.47526458e+05,\n",
       "        5.45543164e+05,  3.66675148e+05,  5.52765449e+05,  5.55222190e+05,\n",
       "        4.72817073e+05,  4.60610018e+05,  8.03495438e+03,  7.17256490e+05,\n",
       "        2.88062231e+05,  2.13554645e+05,  8.03495438e+03,  7.61850680e+05,\n",
       "        2.98623849e+04,  6.11390635e+04,  1.35332742e+06,  2.85001385e+05,\n",
       "        5.33720424e+05,  1.41113086e+06,  1.57930466e+05, -1.89500149e+04,\n",
       "        1.31233386e+06,  3.80655788e+05,  4.23428204e+05,  1.37130509e+06,\n",
       "        2.63746797e+05,  7.83490127e+05,  1.91817353e+05,  3.17691925e+05,\n",
       "        4.92675024e+05,  6.14647879e+05,  4.50972786e+05,  5.78965261e+05,\n",
       "        3.43348229e+04,  4.87462245e+05,  8.25932707e+05,  7.63518770e+05,\n",
       "        1.63230109e+05,  8.73588066e+05,  5.08313364e+05,  7.78277347e+05,\n",
       "        4.00349867e+05,  6.30098488e+05, -7.58738940e+04,  4.23334501e+05,\n",
       "        7.25361222e+05,  4.71494070e+05,  3.27370951e+05,  1.56680948e+06,\n",
       "        1.20700666e+05,  3.17000237e+05,  4.28640984e+05,  7.05854873e+05,\n",
       "       -8.77801371e+04,  7.51473106e+05,  6.21459657e+05,  1.48553810e+06,\n",
       "        2.86717460e+05,  4.95984230e+05,  3.84367520e+05,  5.43458052e+05,\n",
       "        6.14460149e+05,  3.59366542e+05,  2.75545367e+05,  4.27154108e+05,\n",
       "        2.94937232e+05, -2.25890563e+04,  6.98604967e+05,  1.49480662e+06,\n",
       "        5.55638888e+05,  4.21518436e+03,  5.45543164e+05,  2.39092634e+04,\n",
       "        4.58270678e+05,  5.72757911e+05,  7.30453066e+04,  5.00685637e+05,\n",
       "        1.25057670e+06,  6.22875688e+05,  1.41410423e+06,  6.44996486e+05,\n",
       "        3.22073633e+05,  4.14299429e+05,  1.31118086e+06, -4.39231259e+03,\n",
       "        5.86236271e+05,  2.48445104e+05,  5.08313364e+05,  7.29451042e+05,\n",
       "        1.53134385e+05,  5.03176536e+05,  2.75249345e+05,  4.72817073e+05,\n",
       "        2.85674905e+05,  5.10350490e+05,  6.14693781e+05,  5.08723870e+05,\n",
       "        6.37767872e+04,  1.25589803e+05,  4.66535519e+05,  2.68139183e+05,\n",
       "        5.57724000e+05, -2.67976016e+05,  1.68032383e+05,  8.68077193e+05,\n",
       "        1.63788718e+06,  4.89353434e+05,  5.32890387e+05,  7.77374536e+05,\n",
       "       -6.54483345e+04,  1.27261012e+06,  8.85008196e+05,  3.80985624e+05,\n",
       "        1.68356026e+05,  1.63559945e+05, -3.86440938e+04,  1.73245162e+05,\n",
       "        6.70643686e+05,  6.21459657e+05,  7.75177446e+04,  1.99632705e+05,\n",
       "        4.87462245e+05,  7.42042117e+05,  7.39890507e+05,  1.78781586e+05,\n",
       "        5.71277227e+05,  2.10058264e+05,  3.15861042e+05,  2.86717460e+05,\n",
       "        5.15611255e+05, -5.77337445e+04,  7.86747847e+04,  2.63666745e+05,\n",
       "        3.58647629e+05,  3.37386004e+05, -8.73527242e+04,  7.63518770e+05,\n",
       "        4.50839057e+05,  5.12039268e+05,  4.76248358e+05,  7.99128466e+05,\n",
       "        5.69586794e+03,  5.15089977e+05, -1.61916094e+05,  9.38964257e+04,\n",
       "        5.55222190e+05,  5.57119571e+05,  1.08794423e+05,  5.01015472e+05,\n",
       "        6.81809588e+05,  3.87126476e+05, -4.39231259e+03,  6.75668736e+05,\n",
       "       -1.22372214e+05,  5.40330384e+05,  8.06378372e+05,  3.95746194e+05,\n",
       "        5.57352695e+05,  1.49778172e+06,  4.05656767e+05,  1.24759114e+06,\n",
       "        8.14308053e+05,  4.87462245e+05,  3.66634940e+05,  7.47302883e+05,\n",
       "        7.09030527e+05,  6.68987882e+05, -1.41429369e+03,  3.08638242e+05,\n",
       "        5.66804789e+05,  1.63230109e+05,  4.08388101e+05,  1.49778172e+06,\n",
       "        1.49579304e+05,  1.85561912e+05,  5.16626190e+05,  6.07416486e+05,\n",
       "        4.49189889e+05,  1.43325402e+06,  5.41182849e+05,  2.18996948e+05,\n",
       "        2.77588686e+05,  2.46958229e+05,  6.81809588e+05,  3.49708945e+05,\n",
       "        7.63607045e+04,  5.55968723e+05, -2.91225176e+05,  4.46848187e+05,\n",
       "        5.17252048e+05,  5.59930436e+05,  8.36358266e+05,  2.61210004e+05,\n",
       "        5.87655908e+05,  7.73064567e+05,  3.05368984e+05,  6.02217064e+04,\n",
       "        8.31145487e+05,  5.86781049e+05, -9.34096152e+04,  1.41349345e+06,\n",
       "        5.56379230e+05,  1.44867183e+05,  1.57054331e+06, -1.73822337e+05,\n",
       "        1.60440448e+06,  2.51993993e+05,  1.01683059e+04, -4.05201735e+03,\n",
       "        5.72757911e+05,  4.79281906e+05,  4.52907671e+05,  5.56963294e+05])"
      ]
     },
     "execution_count": 105,
     "metadata": {},
     "output_type": "execute_result"
    }
   ],
   "source": [
    "y_pred"
   ]
  },
  {
   "cell_type": "markdown",
   "id": "1f666549",
   "metadata": {},
   "source": [
    "# Evaluating the Model"
   ]
  },
  {
   "cell_type": "markdown",
   "id": "94138147",
   "metadata": {},
   "source": [
    "MSE and RMSE are commonly preferred when the goal is to minimize prediction errors,R2is useful for understanding the overall goodness of fit of the model. The RMSE value, which represents the average magnitude of the errors in the predicted selling prices."
   ]
  },
  {
   "cell_type": "code",
   "execution_count": 106,
   "id": "86439811",
   "metadata": {},
   "outputs": [],
   "source": [
    "mse = (mean_squared_error(y_test, y_pred))"
   ]
  },
  {
   "cell_type": "code",
   "execution_count": 107,
   "id": "137d3664",
   "metadata": {},
   "outputs": [
    {
     "data": {
      "text/plain": [
       "184963450105.73517"
      ]
     },
     "execution_count": 107,
     "metadata": {},
     "output_type": "execute_result"
    }
   ],
   "source": [
    "mse"
   ]
  },
  {
   "cell_type": "code",
   "execution_count": 108,
   "id": "fdcdffb5",
   "metadata": {},
   "outputs": [],
   "source": [
    "r2 = r2_score(y_test, y_pred) "
   ]
  },
  {
   "cell_type": "code",
   "execution_count": 109,
   "id": "1d8a2427",
   "metadata": {},
   "outputs": [
    {
     "data": {
      "text/plain": [
       "0.39390085293400134"
      ]
     },
     "execution_count": 109,
     "metadata": {},
     "output_type": "execute_result"
    }
   ],
   "source": [
    "r2"
   ]
  },
  {
   "cell_type": "code",
   "execution_count": 110,
   "id": "afde4a7c",
   "metadata": {},
   "outputs": [],
   "source": [
    "rmse = mean_squared_error(y_test, y_pred, squared=False)"
   ]
  },
  {
   "cell_type": "code",
   "execution_count": 111,
   "id": "9ea9feaf",
   "metadata": {},
   "outputs": [
    {
     "data": {
      "text/plain": [
       "430073.7728643019"
      ]
     },
     "execution_count": 111,
     "metadata": {},
     "output_type": "execute_result"
    }
   ],
   "source": [
    "rmse"
   ]
  },
  {
   "cell_type": "code",
   "execution_count": 112,
   "id": "097044e1",
   "metadata": {},
   "outputs": [
    {
     "name": "stdout",
     "output_type": "stream",
     "text": [
      "Mean Squared Error: 184963450105.73517\n",
      "R^2 Score: 0.39390085293400134\n",
      "Root Mean Squared Error (RMSE): 430073.7728643019\n"
     ]
    }
   ],
   "source": [
    "print(\"Mean Squared Error:\", mse)\n",
    "print(\"R^2 Score:\", r2)\n",
    "print(\"Root Mean Squared Error (RMSE):\", rmse)"
   ]
  },
  {
   "cell_type": "markdown",
   "id": "29b0ef4a",
   "metadata": {},
   "source": [
    "# 2. Random Forest Regressor Model"
   ]
  },
  {
   "cell_type": "markdown",
   "id": "033e2d8e",
   "metadata": {},
   "source": [
    "Random Forest Regression is an ensemble learning technique based on the Random Forest algorithm, which is a versatile and powerful machine learning method. It's particularly effective for regression tasks, including predicting car prices, as it can handle both numerical and categorical features, deal with nonlinear relationships, and reduce overfitting.Random Forest Regressor, offers a balance between predictive performance, flexibility, and ease of use."
   ]
  },
  {
   "cell_type": "code",
   "execution_count": 113,
   "id": "b70f7d33",
   "metadata": {},
   "outputs": [],
   "source": [
    "RF_regressor = RandomForestRegressor()"
   ]
  },
  {
   "cell_type": "code",
   "execution_count": 114,
   "id": "6186e6bd",
   "metadata": {},
   "outputs": [],
   "source": [
    "# Training Random Forest Model with Training Data"
   ]
  },
  {
   "cell_type": "code",
   "execution_count": 115,
   "id": "5d49ca46",
   "metadata": {},
   "outputs": [
    {
     "data": {
      "text/html": [
       "<style>#sk-container-id-4 {color: black;background-color: white;}#sk-container-id-4 pre{padding: 0;}#sk-container-id-4 div.sk-toggleable {background-color: white;}#sk-container-id-4 label.sk-toggleable__label {cursor: pointer;display: block;width: 100%;margin-bottom: 0;padding: 0.3em;box-sizing: border-box;text-align: center;}#sk-container-id-4 label.sk-toggleable__label-arrow:before {content: \"▸\";float: left;margin-right: 0.25em;color: #696969;}#sk-container-id-4 label.sk-toggleable__label-arrow:hover:before {color: black;}#sk-container-id-4 div.sk-estimator:hover label.sk-toggleable__label-arrow:before {color: black;}#sk-container-id-4 div.sk-toggleable__content {max-height: 0;max-width: 0;overflow: hidden;text-align: left;background-color: #f0f8ff;}#sk-container-id-4 div.sk-toggleable__content pre {margin: 0.2em;color: black;border-radius: 0.25em;background-color: #f0f8ff;}#sk-container-id-4 input.sk-toggleable__control:checked~div.sk-toggleable__content {max-height: 200px;max-width: 100%;overflow: auto;}#sk-container-id-4 input.sk-toggleable__control:checked~label.sk-toggleable__label-arrow:before {content: \"▾\";}#sk-container-id-4 div.sk-estimator input.sk-toggleable__control:checked~label.sk-toggleable__label {background-color: #d4ebff;}#sk-container-id-4 div.sk-label input.sk-toggleable__control:checked~label.sk-toggleable__label {background-color: #d4ebff;}#sk-container-id-4 input.sk-hidden--visually {border: 0;clip: rect(1px 1px 1px 1px);clip: rect(1px, 1px, 1px, 1px);height: 1px;margin: -1px;overflow: hidden;padding: 0;position: absolute;width: 1px;}#sk-container-id-4 div.sk-estimator {font-family: monospace;background-color: #f0f8ff;border: 1px dotted black;border-radius: 0.25em;box-sizing: border-box;margin-bottom: 0.5em;}#sk-container-id-4 div.sk-estimator:hover {background-color: #d4ebff;}#sk-container-id-4 div.sk-parallel-item::after {content: \"\";width: 100%;border-bottom: 1px solid gray;flex-grow: 1;}#sk-container-id-4 div.sk-label:hover label.sk-toggleable__label {background-color: #d4ebff;}#sk-container-id-4 div.sk-serial::before {content: \"\";position: absolute;border-left: 1px solid gray;box-sizing: border-box;top: 0;bottom: 0;left: 50%;z-index: 0;}#sk-container-id-4 div.sk-serial {display: flex;flex-direction: column;align-items: center;background-color: white;padding-right: 0.2em;padding-left: 0.2em;position: relative;}#sk-container-id-4 div.sk-item {position: relative;z-index: 1;}#sk-container-id-4 div.sk-parallel {display: flex;align-items: stretch;justify-content: center;background-color: white;position: relative;}#sk-container-id-4 div.sk-item::before, #sk-container-id-4 div.sk-parallel-item::before {content: \"\";position: absolute;border-left: 1px solid gray;box-sizing: border-box;top: 0;bottom: 0;left: 50%;z-index: -1;}#sk-container-id-4 div.sk-parallel-item {display: flex;flex-direction: column;z-index: 1;position: relative;background-color: white;}#sk-container-id-4 div.sk-parallel-item:first-child::after {align-self: flex-end;width: 50%;}#sk-container-id-4 div.sk-parallel-item:last-child::after {align-self: flex-start;width: 50%;}#sk-container-id-4 div.sk-parallel-item:only-child::after {width: 0;}#sk-container-id-4 div.sk-dashed-wrapped {border: 1px dashed gray;margin: 0 0.4em 0.5em 0.4em;box-sizing: border-box;padding-bottom: 0.4em;background-color: white;}#sk-container-id-4 div.sk-label label {font-family: monospace;font-weight: bold;display: inline-block;line-height: 1.2em;}#sk-container-id-4 div.sk-label-container {text-align: center;}#sk-container-id-4 div.sk-container {/* jupyter's `normalize.less` sets `[hidden] { display: none; }` but bootstrap.min.css set `[hidden] { display: none !important; }` so we also need the `!important` here to be able to override the default hidden behavior on the sphinx rendered scikit-learn.org. See: https://github.com/scikit-learn/scikit-learn/issues/21755 */display: inline-block !important;position: relative;}#sk-container-id-4 div.sk-text-repr-fallback {display: none;}</style><div id=\"sk-container-id-4\" class=\"sk-top-container\"><div class=\"sk-text-repr-fallback\"><pre>RandomForestRegressor()</pre><b>In a Jupyter environment, please rerun this cell to show the HTML representation or trust the notebook. <br />On GitHub, the HTML representation is unable to render, please try loading this page with nbviewer.org.</b></div><div class=\"sk-container\" hidden><div class=\"sk-item\"><div class=\"sk-estimator sk-toggleable\"><input class=\"sk-toggleable__control sk-hidden--visually\" id=\"sk-estimator-id-4\" type=\"checkbox\" checked><label for=\"sk-estimator-id-4\" class=\"sk-toggleable__label sk-toggleable__label-arrow\">RandomForestRegressor</label><div class=\"sk-toggleable__content\"><pre>RandomForestRegressor()</pre></div></div></div></div></div>"
      ],
      "text/plain": [
       "RandomForestRegressor()"
      ]
     },
     "execution_count": 115,
     "metadata": {},
     "output_type": "execute_result"
    }
   ],
   "source": [
    "RF_regressor.fit(X_train, y_train)"
   ]
  },
  {
   "cell_type": "code",
   "execution_count": 116,
   "id": "50406857",
   "metadata": {},
   "outputs": [],
   "source": [
    "y_pred = RF_regressor.predict(X_test)"
   ]
  },
  {
   "cell_type": "code",
   "execution_count": 117,
   "id": "2f97884c",
   "metadata": {},
   "outputs": [
    {
     "data": {
      "text/plain": [
       "array([ 155950.6547619 ,  443021.66666667,  127829.16666667,\n",
       "        487049.97      , 1877670.56333333,  210434.06605617,\n",
       "        452935.969     ,   93335.99      ,  521631.72931349,\n",
       "        248490.        ,  488022.83690476,  545072.13591964,\n",
       "        522320.        ,   64250.        ,  472203.38565182,\n",
       "        639850.57720058,  725352.5       , 1707350.        ,\n",
       "        147998.23809524,  928400.        ,  641168.26607426,\n",
       "        953530.39321789,  391794.51118326, 1041764.7472381 ,\n",
       "        260155.83333333,  535996.85952936,  628771.19047619,\n",
       "        295438.33333333,  344722.48160079,  417974.29292929,\n",
       "        211573.33333333, 1025787.33333333,  610866.66666667,\n",
       "        815459.81533333,  551473.33333333,  252867.15097338,\n",
       "       1123875.83333333,  432788.17460317,  177920.80657864,\n",
       "        396198.62802106,  842744.16666667,  439290.        ,\n",
       "        738725.22257726,  145308.71933622,  180832.97619048,\n",
       "        275452.21428571,  381631.70136236,  477364.12666667,\n",
       "        761014.64285714,  400298.19147871,  282790.        ,\n",
       "        222525.50788248,  760000.        ,  306862.25829726,\n",
       "        381412.61091667,  639104.60851648,  493214.26628927,\n",
       "        428324.8775    ,  225793.96      ,  435774.28571429,\n",
       "        105271.19047619,  415949.12367371,  858371.70818182,\n",
       "        622901.81818182,  236218.08116883,  232574.8465119 ,\n",
       "        760000.        ,  203524.00793651,  164595.        ,\n",
       "        479577.0514208 , 2000930.        ,  432193.05315571,\n",
       "        114302.67857143, 1255799.62      ,  185412.5       ,\n",
       "        619997.75228571,  271149.96      ,  600000.        ,\n",
       "        625349.93      ,  723777.61907215,  479577.0514208 ,\n",
       "        144657.37893434,  152659.985     ,  771345.22485714,\n",
       "        117990.        ,  311967.26190476,  271149.96      ,\n",
       "        218321.93126517,  548058.31333333,   65738.33333333,\n",
       "        216469.09032086,  204691.42857143,  143060.        ,\n",
       "        203590.        ,  283546.43292982,  415949.12367371,\n",
       "       3865580.        ,  235713.85384524,  107171.83333333,\n",
       "        587850.        ,  681714.02777778,  535000.        ,\n",
       "        222299.32      ,  353604.33333333,  150609.94      ,\n",
       "        709650.        ,  423906.66840537,  644548.6077619 ,\n",
       "        302833.24675325,  913899.96      ,  243776.        ,\n",
       "        247989.76286459, 1692740.        ,  625000.        ,\n",
       "        518885.20786111,  255449.66      ,  262104.19242424,\n",
       "        180839.93142857, 2092550.        ,  525370.        ,\n",
       "        831076.32936508,  249928.69047619,  125195.44863095,\n",
       "        940439.65173715, 1297500.        ,   70380.        ,\n",
       "        210883.01246429,  712350.        ,  225474.29015429,\n",
       "        259419.16666667,  750000.        ,  963740.27230952,\n",
       "        482266.66666667,   82840.        ,  537519.77400051,\n",
       "       2288780.        ,  796805.87301587,  430304.57142857,\n",
       "        563689.33730159,  569439.36492064,  625000.        ,\n",
       "        175048.80952381,  472069.52380952,  605600.        ,\n",
       "        639104.60851648,   95654.16666667,  328169.52936508,\n",
       "        262188.22166667,  440783.33333333,  466421.38347763,\n",
       "        711250.        ,  188550.        , 1123875.83333333,\n",
       "        513979.15666667,  466421.38347763,  375457.17259957,\n",
       "        562552.79761905,  236490.32607143,  643811.53846154,\n",
       "        482495.22366522,  800805.47619048,  842744.16666667,\n",
       "        215569.08333333,  114045.        ,  617365.24777778,\n",
       "        279610.56412698,  711065.58690476,  180852.5       ,\n",
       "        122708.4809127 ,  112837.76889777,   91225.        ,\n",
       "        201874.6031746 ,  116817.85714286,  305482.97619048,\n",
       "        586500.        ,  221481.64666667,  580984.30555556,\n",
       "        192525.92619048,  195593.74762881,  514975.        ,\n",
       "        758400.        ,  702400.        , 1107900.        ,\n",
       "        485150.23809524,   58400.        ,  242107.5544733 ,\n",
       "        188953.58717857,  754309.326     ,  141230.        ,\n",
       "       1300000.        ,  272840.33730159,  543720.82333333,\n",
       "        854578.87165079,  242476.53761905,   99280.        ,\n",
       "        197137.4775    ,  453691.0866448 ,  229999.        ,\n",
       "       1546670.        ,  424991.82539683, 1339583.33333333,\n",
       "        349632.38095238,  376666.66666667,  229518.24396825,\n",
       "        275861.45809524,  477995.50380175,  149935.83333333,\n",
       "        156225.75633333,  424991.82539683,  979948.19865859,\n",
       "       1165550.        ,  335850.        ,  461842.18365476,\n",
       "        246304.97      ,  246369.16666667,   87212.5       ,\n",
       "        320856.651     ,  191348.87616667,  537519.77400051,\n",
       "        232574.8465119 ,  940439.65173715,  236490.32607143,\n",
       "        105306.66666667,  499256.43037518,  324977.65607143,\n",
       "        233749.61      , 1953680.33714286,  503900.        ,\n",
       "        356675.83333333,  539122.97008547,  222695.83333333,\n",
       "        131866.07142857,  681231.76406926,  426331.42714286,\n",
       "        243219.95      ,  820476.        ,  219095.1082381 ,\n",
       "        191965.35714286,  681231.76406926,  461299.87      ,\n",
       "        282490.        ,  168283.33333333,  184647.02380952,\n",
       "        426570.65162509,  119577.93571429,  603112.74805159,\n",
       "       1380118.33333333,  296383.33333333,  428503.33333333,\n",
       "        426570.65162509,  314876.64666667, 3139100.        ,\n",
       "        543509.40670441,  283546.43292982,  750000.        ,\n",
       "        229999.        ,  221800.        ,  284615.12309524,\n",
       "        446800.        ,  278173.96767899,  602500.        ,\n",
       "        243029.4       ,  537519.77400051,  115662.14285714,\n",
       "        258030.4952381 ,  180832.97619048,  497640.53754579,\n",
       "        145655.88      , 1248393.32333333,  174740.83333333,\n",
       "        514975.        ,  396548.19147871,  302833.24675325,\n",
       "        162952.29967857,  234852.5544733 , 1729750.        ,\n",
       "        622319.1469476 ,  237570.35714286,  993250.        ,\n",
       "        842744.16666667,  520000.        ,  116880.        ,\n",
       "        469128.33333333,  275452.21428571,  236218.08116883,\n",
       "        344722.48160079,  625963.33333333,  378269.55116721,\n",
       "        149935.83333333,  116817.85714286,   97280.        ,\n",
       "        670000.        ,  236218.08116883,  103426.49603175,\n",
       "        111535.23809524,  963740.27230952,  260595.91602842,\n",
       "        232574.8465119 ,  537519.77400051, 1114259.67      ,\n",
       "       1359990.        ,   92038.33333333,   91940.        ,\n",
       "       1022660.        ,  236490.32607143,  284040.55488955,\n",
       "         84726.66666667,  622819.78      ,  704831.66666667,\n",
       "        367242.05235124,  338386.81096681,  706527.49666667,\n",
       "        274934.57002406,  178033.74      ,  300219.29726321,\n",
       "        215380.        ,  574634.69730647,  521357.5611143 ,\n",
       "        178033.74      ,  520000.        ,  265783.03391053,\n",
       "        468000.        , 2682241.07142857,  164271.20888889,\n",
       "         94300.        ,  101428.92496392,  951174.95      ,\n",
       "        979948.19865859,  250350.        ,  441883.33333333,\n",
       "        793577.487     ,  345331.66166667,  158945.        ,\n",
       "        899359.45804196, 1329300.        ,   94300.5952381 ,\n",
       "        110257.30952381,  527333.33333333,  512638.        ,\n",
       "        349114.75      ,  278646.35131535,  191272.25941633,\n",
       "        342390.        ,  291713.33333333,  266820.53112554,\n",
       "        242436.66666667,  469185.        ,  472069.52380952,\n",
       "        154636.9047619 ,  602752.08333333,  375606.56612338,\n",
       "        441050.        , 1023919.55333333,  433168.98629124,\n",
       "        243990.82333333,  600000.        ,  439450.        ,\n",
       "        192270.        ,  251069.995     ,  882909.09090909,\n",
       "        458619.98      ,  126240.86491667,  597240.71428571,\n",
       "        226901.71428571,  258927.37095238,  877079.99      ,\n",
       "        289579.16666667,  722000.        ,  641168.26607426,\n",
       "        544380.        ,  181896.61852037,  424869.17852572,\n",
       "        758329.65      ,  202269.49      ,  485809.99      ,\n",
       "        353604.33333333,  295770.79365079,  913015.6821562 ,\n",
       "        747913.17460317,  543509.40670441,  450000.        ,\n",
       "        235720.83333333,  279923.31566667,  329897.29114885,\n",
       "        495648.33333333,  234852.5544733 , 1013880.        ,\n",
       "        216782.18404762,  717299.99166667, 1580000.        ,\n",
       "        385000.        ,  221263.07539683,  942692.61904762,\n",
       "        603112.74805159,  703759.97      ,  531006.996     ,\n",
       "        634715.47619048,  363450.        ,  154371.20888889,\n",
       "        293799.97      ,  574634.69730647,  520000.        ,\n",
       "        279049.76190476,  673838.08275058,  796486.08405483,\n",
       "        537416.97025197,   87212.5       ,  278290.        ,\n",
       "        385000.        ,  193962.0672381 ,  505758.33333333,\n",
       "        218682.65666667,  489899.995     ,  559750.        ,\n",
       "        317748.60344156,  379787.27348581,  174250.        ,\n",
       "        220052.5       ,  963740.27230952, 1353254.16666667,\n",
       "        505987.86465509,  259419.16666667,  573700.        ,\n",
       "        520710.47619048,  717168.33333333,  494234.43249134,\n",
       "        564104.26571429,  114302.67857143, 1713430.        ,\n",
       "        574634.69730647,  203388.33333333,  428150.        ,\n",
       "        149935.83333333,  499713.85388889,  836366.66666667,\n",
       "        589600.        ,  121952.49      ,  502564.14666667,\n",
       "        490656.66666667,  376379.24173593,   90007.42857143,\n",
       "        421246.66666667,  103908.5515873 ,  606986.13095238,\n",
       "        410074.82142857,  303468.33333333,  298616.17424242,\n",
       "       1742050.        ,  468827.79040404,  135157.5       ,\n",
       "        730579.85989887,  177920.80657864,  486958.55382609,\n",
       "        364299.99      ,  220208.61971362,  210483.99605617,\n",
       "        400679.96511905,  796486.08405483,  173572.08333333,\n",
       "        547410.51983766,  287593.01971573,  653487.20760354,\n",
       "        247472.61904762,  106000.        ,  439833.27      ,\n",
       "        427557.03582684,  651664.        ,  526983.47402597,\n",
       "        437349.93207143,  474961.4471627 ,  238601.66666667,\n",
       "        330032.01095238,  390986.41666667, 1274229.36507936,\n",
       "        105504.83333333,  625963.33333333,  152659.985     ,\n",
       "        537090.        ,  229999.        ,  191550.        ,\n",
       "        417376.51380952,  703382.02075   ,  148367.68315018,\n",
       "        312398.92857143,  260595.91602842,   96201.19047619,\n",
       "        253420.        ,  899788.997114  ,  113832.5       ,\n",
       "        432242.71428571,  563160.        ,  521187.19238095,\n",
       "        977866.66666667,  896649.99      ,  875477.37734488,\n",
       "       1268521.03732372,  254963.30816667,  547273.3982684 ,\n",
       "        796486.08405483,  774846.74603175,  298513.99      ,\n",
       "         74280.83333333,  448555.10822511,  467550.        ,\n",
       "        628050.        ,  979948.19865859,  196174.80583333,\n",
       "        303742.69297619,  468827.79040404,  242476.53761905,\n",
       "        156188.32833333,  858371.70818182,  275861.45809524,\n",
       "        535000.        ,  214149.97      ,  408179.12859069,\n",
       "        504175.61366411,  193360.        , 1369601.19047619,\n",
       "       4950000.        ,  181904.9       ,  271853.40389683,\n",
       "        535996.85952936,  486099.99      ,  648983.33333333,\n",
       "        796805.87301587,  512231.10558886,  433168.98629124,\n",
       "        631751.78571429,  459977.08952381,  121699.98542857,\n",
       "        396548.19147871,  181310.        ,  481940.41666667,\n",
       "       1329249.95      ,  340750.        ,  896260.07846248,\n",
       "         91549.57142857,  963740.27230952,  758070.        ,\n",
       "        204861.74297924,  733246.8847619 ,  388343.26345876,\n",
       "        300199.4047619 ,  113733.14333333,  427557.03582684,\n",
       "        225474.29015429,  322999.84      ,  345144.0530303 ,\n",
       "        692633.75      ,  138851.66666667,  110766.66666667,\n",
       "        365391.53761905,  600000.        ,  184959.92784993,\n",
       "        164459.99      ,  241419.27204762,  611204.17422497,\n",
       "        300199.4047619 ,  394124.25252525,  513370.39268864,\n",
       "        906610.        ,  290854.30231349,  545399.77      ,\n",
       "        317748.60344156,   97130.        ,  676646.42857143,\n",
       "        270189.74      ,  115154.83333333,  518885.20786111,\n",
       "        621000.        ,  132899.23803571, 1524850.        ,\n",
       "        272550.88992613,  625963.33333333,  379262.08333333,\n",
       "        211191.62666667,  269461.54761905,  312554.6031746 ,\n",
       "        401561.72871032,  186678.57142857,  396548.19147871,\n",
       "        450952.5       ,  254131.43481518,  305626.1859526 ,\n",
       "        220465.        ,  101428.92496392,  583900.        ,\n",
       "        189870.        ,  351722.08821734,  853271.28854545,\n",
       "        581435.68291955,  150463.09333333,  302833.24675325,\n",
       "        188953.58717857,   99564.99      ,   99296.78571429,\n",
       "        424991.82539683,  423906.66840537, 1918819.99      ,\n",
       "        345500.        ,  396442.18073593,  487774.84126984,\n",
       "        125195.44863095,  466421.38347763,   76080.        ,\n",
       "        192378.14666667,  426570.65162509,  604061.11111111,\n",
       "        249949.95      ,  282059.97      ,  210120.66115873,\n",
       "        803310.61625064,  298513.99      ,  486099.9925    ,\n",
       "        761014.64285714, 1106200.        ,  361950.        ,\n",
       "        432788.17460317,  386346.66666667,  408272.25571429,\n",
       "        801057.5       ,  609038.33333333, 2600000.        ,\n",
       "        344722.48160079,  796486.08405483,  233880.        ,\n",
       "        260595.91602842,   81100.        ,  477995.50380175,\n",
       "       1450050.        ,  311934.74357143, 1056657.80463659,\n",
       "        452143.264     ,  317748.60344156,  245721.64027417,\n",
       "        408695.        ,  191404.16666667,  150599.38666667,\n",
       "         72163.42857143,  535996.85952936,  600182.40079365,\n",
       "        373261.83333333,  423080.        ,  200218.5597619 ,\n",
       "        265783.03391053,  223800.41619048,   80000.        ,\n",
       "        834818.84920635,  543509.40670441,  245755.        ,\n",
       "        957998.33333333,  220459.68404762,  178649.97      ,\n",
       "        349114.75      ,  221375.        ,  503205.35714286,\n",
       "        138883.33333333,  254450.        ,  421934.20634921,\n",
       "        322816.0125693 ,  601961.11111111,   80000.        ,\n",
       "        833461.73163853,  222672.05222222,  207760.        ,\n",
       "         80000.        ,  537764.28571429,  112837.76889777,\n",
       "        134433.39      ,  460323.1547619 ,  301100.33333333,\n",
       "        600496.31578947,  520000.        ,  230780.65994699,\n",
       "        111169.98      ,  541940.        ,  219870.35714286,\n",
       "        426570.65162509,  778624.28571429,  374107.34126984,\n",
       "        772433.30919081,  132835.35461538,  266322.84714286,\n",
       "        433168.98629124,  322941.66666667,  610866.66666667,\n",
       "        560022.17      ,  108996.11904762,  391794.51118326,\n",
       "       1268521.03732372,  831076.32936508,   96799.99      ,\n",
       "       1111561.11111111,  600182.40079365, 1041764.7472381 ,\n",
       "        116880.        ,  594902.82066545,   91549.57142857,\n",
       "        399973.53823954,  733907.85314286,  252867.15097338,\n",
       "        238016.655     , 3164870.        ,  262743.0366022 ,\n",
       "        203192.5       ,  395786.91197691,  608240.        ,\n",
       "         73631.9047619 , 1376574.89163636,  450000.        ,\n",
       "       2373500.        ,  294907.42063492,  484239.89      ,\n",
       "        475979.97      ,  660943.78968254,  842744.16666667,\n",
       "        236797.02380952,  363283.98928571,  280917.38095238,\n",
       "        289900.        ,   82328.33333333,  803644.51659452,\n",
       "       2564199.95      ,  186255.35714286,   88145.23809524,\n",
       "        503205.35714286,   99192.38095238,  614495.        ,\n",
       "        563160.        ,  178423.95238095,  447152.56099422,\n",
       "        916650.        ,  750000.        ,  458619.98      ,\n",
       "        653549.99      ,  345500.        ,  413740.        ,\n",
       "        618750.        ,  154343.29333333,  389814.28571429,\n",
       "        220208.61971362,  600182.40079365,  522050.        ,\n",
       "        191272.25941633,  417144.58333333,  259419.16666667,\n",
       "        322816.0125693 ,  306862.25829726,  631188.32475   ,\n",
       "        840199.95      ,  337596.30952381,  142961.94047619,\n",
       "        172072.45428571,  327901.66666667,  314599.4165    ,\n",
       "        193905.35714286,   63210.        ,  131350.        ,\n",
       "        820476.        , 2251211.9047619 ,  451300.        ,\n",
       "        317748.60344156,  867199.98      ,   95652.5       ,\n",
       "        411550.        , 1225515.83333333,  396442.18073593,\n",
       "        217722.46208117,  154724.34452015,   81237.5       ,\n",
       "        174250.        ,  660386.84126984,  450000.        ,\n",
       "        162952.29967857,  201467.92732143,  391794.51118326,\n",
       "       1306440.52030303,  737985.66266847,  229382.26949062,\n",
       "        380489.36507937,  216362.06349206,  434058.33333333,\n",
       "        294907.42063492,  505504.8107619 ,   81949.04761905,\n",
       "         99296.78571429,  248238.33333333,  305626.1859526 ,\n",
       "        330315.539     ,  124658.33333333,  831076.32936508,\n",
       "        486958.55382609,  258158.69907648,  323662.78993506,\n",
       "       1045905.15873016,  117309.43444444,  488870.16790476,\n",
       "         99068.66666667,  242822.465     ,  421934.20634921,\n",
       "        486645.81333333,  144777.61904762,  420359.09090909,\n",
       "        864445.95238095,  371322.83773976,  154343.29333333,\n",
       "        770271.38909717,  106143.66666667,  799842.18200763,\n",
       "        982849.99333333,  234101.65166667,  675670.        ,\n",
       "       1300000.        ,  505860.        ,  827110.        ,\n",
       "       1001391.27205128,  391794.51118326,  391299.99      ,\n",
       "       1218166.88012754,  787751.20111111,  825822.5       ,\n",
       "         90007.42857143,  141185.65333333,  388343.26345876,\n",
       "         96799.99      ,  289837.49427151, 1300000.        ,\n",
       "        156957.28633333,  311224.72933333,  215206.66666667,\n",
       "        566037.5       ,  532579.71997872, 1341933.33333333,\n",
       "        397900.        ,  168370.83333333,  248469.95      ,\n",
       "        211867.26190476,  864445.95238095,  241090.85497835,\n",
       "        161676.06528571,  424991.82539683,   58770.        ,\n",
       "        188558.33333333,  622186.54761905,  514470.        ,\n",
       "       1274229.36507936,  239024.94      ,  606986.13095238,\n",
       "        940439.65173715,  246096.9047619 ,  176585.82333333,\n",
       "        938957.63888889,  468000.        ,  103552.85714286,\n",
       "        775471.66666667,  284040.55488955,  119577.93571429,\n",
       "       3280000.        ,   93620.        , 2600000.        ,\n",
       "        520149.93      ,  105251.96428571,  116652.26190476,\n",
       "        563160.        ,  291713.33333333,  643500.        ,\n",
       "        322479.16416667])"
      ]
     },
     "execution_count": 117,
     "metadata": {},
     "output_type": "execute_result"
    }
   ],
   "source": [
    "y_pred"
   ]
  },
  {
   "cell_type": "markdown",
   "id": "b7a1d66c",
   "metadata": {},
   "source": [
    "# Evaluating the Model"
   ]
  },
  {
   "cell_type": "code",
   "execution_count": 118,
   "id": "cb6b3e84",
   "metadata": {},
   "outputs": [
    {
     "name": "stdout",
     "output_type": "stream",
     "text": [
      "Mean Squared Error (MSE): 152996094903.89087\n",
      "R-squared (R2) Score: 0.4986533686916692\n",
      "Root Mean Squared Error (RMSE): 391147.1524936502\n"
     ]
    }
   ],
   "source": [
    "mse = mean_squared_error(y_test, y_pred)\n",
    "r2 = r2_score(y_test, y_pred)\n",
    "rmse = mean_squared_error(y_test, y_pred, squared=False)\n",
    "print(\"Mean Squared Error (MSE):\", mse)\n",
    "print(\"R-squared (R2) Score:\", r2)\n",
    "print(\"Root Mean Squared Error (RMSE):\", rmse)"
   ]
  },
  {
   "cell_type": "markdown",
   "id": "e12ce65c",
   "metadata": {},
   "source": [
    "# 3. Support Vector Regressor Model"
   ]
  },
  {
   "cell_type": "markdown",
   "id": "cbe77c34",
   "metadata": {},
   "source": [
    "Support Vector Regression (SVR) is a regression algorithm that extends the Support Vector Machine (SVM) algorithm for classification to the regression setting. SVR is particularly useful when dealing with datasets where the relationship between the independent variables and the dependent variable is complex or nonlinear, as it can capture complex patterns in the data and generalize well to unseen examples."
   ]
  },
  {
   "cell_type": "code",
   "execution_count": 119,
   "id": "7a24ccfc",
   "metadata": {},
   "outputs": [],
   "source": [
    "svr_regressor=SVR()"
   ]
  },
  {
   "cell_type": "code",
   "execution_count": 120,
   "id": "08d54c7f",
   "metadata": {},
   "outputs": [],
   "source": [
    "#Training SVR Model with Training Data"
   ]
  },
  {
   "cell_type": "code",
   "execution_count": 121,
   "id": "e3182678",
   "metadata": {},
   "outputs": [
    {
     "data": {
      "text/html": [
       "<style>#sk-container-id-5 {color: black;background-color: white;}#sk-container-id-5 pre{padding: 0;}#sk-container-id-5 div.sk-toggleable {background-color: white;}#sk-container-id-5 label.sk-toggleable__label {cursor: pointer;display: block;width: 100%;margin-bottom: 0;padding: 0.3em;box-sizing: border-box;text-align: center;}#sk-container-id-5 label.sk-toggleable__label-arrow:before {content: \"▸\";float: left;margin-right: 0.25em;color: #696969;}#sk-container-id-5 label.sk-toggleable__label-arrow:hover:before {color: black;}#sk-container-id-5 div.sk-estimator:hover label.sk-toggleable__label-arrow:before {color: black;}#sk-container-id-5 div.sk-toggleable__content {max-height: 0;max-width: 0;overflow: hidden;text-align: left;background-color: #f0f8ff;}#sk-container-id-5 div.sk-toggleable__content pre {margin: 0.2em;color: black;border-radius: 0.25em;background-color: #f0f8ff;}#sk-container-id-5 input.sk-toggleable__control:checked~div.sk-toggleable__content {max-height: 200px;max-width: 100%;overflow: auto;}#sk-container-id-5 input.sk-toggleable__control:checked~label.sk-toggleable__label-arrow:before {content: \"▾\";}#sk-container-id-5 div.sk-estimator input.sk-toggleable__control:checked~label.sk-toggleable__label {background-color: #d4ebff;}#sk-container-id-5 div.sk-label input.sk-toggleable__control:checked~label.sk-toggleable__label {background-color: #d4ebff;}#sk-container-id-5 input.sk-hidden--visually {border: 0;clip: rect(1px 1px 1px 1px);clip: rect(1px, 1px, 1px, 1px);height: 1px;margin: -1px;overflow: hidden;padding: 0;position: absolute;width: 1px;}#sk-container-id-5 div.sk-estimator {font-family: monospace;background-color: #f0f8ff;border: 1px dotted black;border-radius: 0.25em;box-sizing: border-box;margin-bottom: 0.5em;}#sk-container-id-5 div.sk-estimator:hover {background-color: #d4ebff;}#sk-container-id-5 div.sk-parallel-item::after {content: \"\";width: 100%;border-bottom: 1px solid gray;flex-grow: 1;}#sk-container-id-5 div.sk-label:hover label.sk-toggleable__label {background-color: #d4ebff;}#sk-container-id-5 div.sk-serial::before {content: \"\";position: absolute;border-left: 1px solid gray;box-sizing: border-box;top: 0;bottom: 0;left: 50%;z-index: 0;}#sk-container-id-5 div.sk-serial {display: flex;flex-direction: column;align-items: center;background-color: white;padding-right: 0.2em;padding-left: 0.2em;position: relative;}#sk-container-id-5 div.sk-item {position: relative;z-index: 1;}#sk-container-id-5 div.sk-parallel {display: flex;align-items: stretch;justify-content: center;background-color: white;position: relative;}#sk-container-id-5 div.sk-item::before, #sk-container-id-5 div.sk-parallel-item::before {content: \"\";position: absolute;border-left: 1px solid gray;box-sizing: border-box;top: 0;bottom: 0;left: 50%;z-index: -1;}#sk-container-id-5 div.sk-parallel-item {display: flex;flex-direction: column;z-index: 1;position: relative;background-color: white;}#sk-container-id-5 div.sk-parallel-item:first-child::after {align-self: flex-end;width: 50%;}#sk-container-id-5 div.sk-parallel-item:last-child::after {align-self: flex-start;width: 50%;}#sk-container-id-5 div.sk-parallel-item:only-child::after {width: 0;}#sk-container-id-5 div.sk-dashed-wrapped {border: 1px dashed gray;margin: 0 0.4em 0.5em 0.4em;box-sizing: border-box;padding-bottom: 0.4em;background-color: white;}#sk-container-id-5 div.sk-label label {font-family: monospace;font-weight: bold;display: inline-block;line-height: 1.2em;}#sk-container-id-5 div.sk-label-container {text-align: center;}#sk-container-id-5 div.sk-container {/* jupyter's `normalize.less` sets `[hidden] { display: none; }` but bootstrap.min.css set `[hidden] { display: none !important; }` so we also need the `!important` here to be able to override the default hidden behavior on the sphinx rendered scikit-learn.org. See: https://github.com/scikit-learn/scikit-learn/issues/21755 */display: inline-block !important;position: relative;}#sk-container-id-5 div.sk-text-repr-fallback {display: none;}</style><div id=\"sk-container-id-5\" class=\"sk-top-container\"><div class=\"sk-text-repr-fallback\"><pre>SVR()</pre><b>In a Jupyter environment, please rerun this cell to show the HTML representation or trust the notebook. <br />On GitHub, the HTML representation is unable to render, please try loading this page with nbviewer.org.</b></div><div class=\"sk-container\" hidden><div class=\"sk-item\"><div class=\"sk-estimator sk-toggleable\"><input class=\"sk-toggleable__control sk-hidden--visually\" id=\"sk-estimator-id-5\" type=\"checkbox\" checked><label for=\"sk-estimator-id-5\" class=\"sk-toggleable__label sk-toggleable__label-arrow\">SVR</label><div class=\"sk-toggleable__content\"><pre>SVR()</pre></div></div></div></div></div>"
      ],
      "text/plain": [
       "SVR()"
      ]
     },
     "execution_count": 121,
     "metadata": {},
     "output_type": "execute_result"
    }
   ],
   "source": [
    "svr_regressor.fit(X_train, y_train)"
   ]
  },
  {
   "cell_type": "code",
   "execution_count": 122,
   "id": "7555e5bb",
   "metadata": {},
   "outputs": [],
   "source": [
    "y_pred = svr_regressor.predict(X_test)"
   ]
  },
  {
   "cell_type": "markdown",
   "id": "72af0941",
   "metadata": {},
   "source": [
    "# Evaluating the Model"
   ]
  },
  {
   "cell_type": "code",
   "execution_count": 123,
   "id": "2335d5f8",
   "metadata": {},
   "outputs": [
    {
     "name": "stdout",
     "output_type": "stream",
     "text": [
      "Mean Squared Error (MSE): 324425289116.57635\n",
      "R-squared (R2) Score: -0.06309593007586267\n",
      "Root Mean Squared Error (RMSE): 569583.4347280267\n"
     ]
    }
   ],
   "source": [
    "mse = mean_squared_error(y_test, y_pred)\n",
    "r2 = r2_score(y_test, y_pred)\n",
    "rmse = mean_squared_error(y_test, y_pred, squared=False)\n",
    "\n",
    "print(\"Mean Squared Error (MSE):\", mse)\n",
    "print(\"R-squared (R2) Score:\", r2)\n",
    "print(\"Root Mean Squared Error (RMSE):\", rmse)"
   ]
  },
  {
   "cell_type": "code",
   "execution_count": 124,
   "id": "27e8c155",
   "metadata": {},
   "outputs": [],
   "source": [
    "#Lower MSE and higher R2 values indicate better performance."
   ]
  },
  {
   "cell_type": "markdown",
   "id": "97edd6d4",
   "metadata": {},
   "source": [
    "# Performing Cross Validation "
   ]
  },
  {
   "cell_type": "code",
   "execution_count": 125,
   "id": "4ccbcb79",
   "metadata": {},
   "outputs": [],
   "source": [
    "# Comparing the performance of different regression models using cross-validation"
   ]
  },
  {
   "cell_type": "code",
   "execution_count": 135,
   "id": "e3fb4b7e",
   "metadata": {},
   "outputs": [
    {
     "name": "stdout",
     "output_type": "stream",
     "text": [
      "Model: Linear Regression\n",
      "Cross-Validation R-squared Scores: [0.46512923 0.50242    0.46033432 0.35026804 0.365876  ]\n",
      "Mean R-squared Score: 0.4288055172173686\n",
      "Cross-Validation MSE Scores: [2.40428127e+11 1.89405554e+11 1.71857128e+11 1.24624447e+11\n",
      " 2.06823994e+11]\n",
      "Mean MSE Score: 186627849957.83984\n",
      "---------------------------------------\n",
      "Model: Random Forest Regression\n",
      "Cross-Validation R-squared Scores: [0.67785349 0.73995225 0.77569211 0.6414143  0.35518128]\n",
      "Mean R-squared Score: 0.6380186854804112\n",
      "Cross-Validation MSE Scores: [1.38931507e+11 1.01108338e+11 7.42606903e+10 7.45317810e+10\n",
      " 2.09951440e+11]\n",
      "Mean MSE Score: 119756751203.94705\n",
      "---------------------------------------\n",
      "Model: SVR\n",
      "Cross-Validation R-squared Scores: [-0.09006857 -0.0733907  -0.07035075 -0.02502504 -0.07431397]\n",
      "Mean R-squared Score: -0.06662980736490728\n",
      "Cross-Validation MSE Scores: [4.89993394e+11 4.08589895e+11 3.40854371e+11 1.96609044e+11\n",
      " 3.50395041e+11]\n",
      "Mean MSE Score: 357288349069.00995\n",
      "---------------------------------------\n"
     ]
    }
   ],
   "source": [
    "from sklearn.model_selection import cross_val_score\n",
    "import numpy as np\n",
    "\n",
    "# Define the models\n",
    "models = {'Linear Regression': LR,\n",
    "          'Random Forest Regression': RF_regressor,\n",
    "          'SVR':svr_regressor\n",
    "}\n",
    "\n",
    "# Perform cross-validation for each model\n",
    "for model_name, model in models.items():\n",
    "    # Compute cross-validation scores for R-squared\n",
    "    cv_scores_r2 = cross_val_score(model, X, y, cv=5, scoring='r2')\n",
    "    # Compute cross-validation scores for MSE\n",
    "    cv_scores_mse = -cross_val_score(model, X, y, cv=5, scoring='neg_mean_squared_error')\n",
    "    \n",
    "    # Print results\n",
    "    print(f\"Model: {model_name}\")\n",
    "    print(f\"Cross-Validation R-squared Scores: {cv_scores_r2}\")\n",
    "    print(f\"Mean R-squared Score: {np.mean(cv_scores_r2)}\")\n",
    "    print(f\"Cross-Validation MSE Scores: {cv_scores_mse}\")\n",
    "    print(f\"Mean MSE Score: {np.mean(cv_scores_mse)}\")\n",
    "    print(\"---------------------------------------\")"
   ]
  },
  {
   "cell_type": "markdown",
   "id": "a5dd6212",
   "metadata": {},
   "source": [
    "# Model Selection"
   ]
  },
  {
   "cell_type": "markdown",
   "id": "fac5f792",
   "metadata": {},
   "source": [
    "Based on R-squared scores and Mean Squared Error (MSE), it seems that Random Forest Regression outperforms both \n",
    "Linear Regression and SVR in terms of predictive accuracy. Linear Regression performs better than SVR, which has negative R-squared scores indicating poor performance."
   ]
  },
  {
   "cell_type": "markdown",
   "id": "7543eb51",
   "metadata": {},
   "source": [
    "Overall, it seems like Random Forest Regression is the most suitable model for predicting car prices based on the provided dataset, as it achieves the highest mean R-squared score and relatively lower mean MSE score compared to the other models. "
   ]
  },
  {
   "cell_type": "code",
   "execution_count": 129,
   "id": "eeb28cf6",
   "metadata": {},
   "outputs": [
    {
     "data": {
      "text/html": [
       "<div>\n",
       "<style scoped>\n",
       "    .dataframe tbody tr th:only-of-type {\n",
       "        vertical-align: middle;\n",
       "    }\n",
       "\n",
       "    .dataframe tbody tr th {\n",
       "        vertical-align: top;\n",
       "    }\n",
       "\n",
       "    .dataframe thead th {\n",
       "        text-align: right;\n",
       "    }\n",
       "</style>\n",
       "<table border=\"1\" class=\"dataframe\">\n",
       "  <thead>\n",
       "    <tr style=\"text-align: right;\">\n",
       "      <th></th>\n",
       "      <th>name</th>\n",
       "      <th>year</th>\n",
       "      <th>selling_price</th>\n",
       "      <th>km_driven</th>\n",
       "      <th>fuel</th>\n",
       "      <th>seller_type</th>\n",
       "      <th>transmission</th>\n",
       "      <th>owner</th>\n",
       "    </tr>\n",
       "  </thead>\n",
       "  <tbody>\n",
       "    <tr>\n",
       "      <th>0</th>\n",
       "      <td>Maruti 800 AC</td>\n",
       "      <td>0.535714</td>\n",
       "      <td>60000</td>\n",
       "      <td>0.086783</td>\n",
       "      <td>4</td>\n",
       "      <td>1</td>\n",
       "      <td>1</td>\n",
       "      <td>0</td>\n",
       "    </tr>\n",
       "    <tr>\n",
       "      <th>1</th>\n",
       "      <td>Maruti Wagon R LXI Minor</td>\n",
       "      <td>0.535714</td>\n",
       "      <td>135000</td>\n",
       "      <td>0.061988</td>\n",
       "      <td>4</td>\n",
       "      <td>1</td>\n",
       "      <td>1</td>\n",
       "      <td>0</td>\n",
       "    </tr>\n",
       "    <tr>\n",
       "      <th>2</th>\n",
       "      <td>Hyundai Verna 1.6 SX</td>\n",
       "      <td>0.714286</td>\n",
       "      <td>600000</td>\n",
       "      <td>0.123976</td>\n",
       "      <td>1</td>\n",
       "      <td>1</td>\n",
       "      <td>1</td>\n",
       "      <td>0</td>\n",
       "    </tr>\n",
       "    <tr>\n",
       "      <th>3</th>\n",
       "      <td>Datsun RediGO T Option</td>\n",
       "      <td>0.892857</td>\n",
       "      <td>250000</td>\n",
       "      <td>0.057028</td>\n",
       "      <td>4</td>\n",
       "      <td>1</td>\n",
       "      <td>1</td>\n",
       "      <td>0</td>\n",
       "    </tr>\n",
       "    <tr>\n",
       "      <th>4</th>\n",
       "      <td>Honda Amaze VX i-DTEC</td>\n",
       "      <td>0.785714</td>\n",
       "      <td>450000</td>\n",
       "      <td>0.174807</td>\n",
       "      <td>1</td>\n",
       "      <td>1</td>\n",
       "      <td>1</td>\n",
       "      <td>2</td>\n",
       "    </tr>\n",
       "  </tbody>\n",
       "</table>\n",
       "</div>"
      ],
      "text/plain": [
       "                       name      year  selling_price  km_driven  fuel  \\\n",
       "0             Maruti 800 AC  0.535714          60000   0.086783     4   \n",
       "1  Maruti Wagon R LXI Minor  0.535714         135000   0.061988     4   \n",
       "2      Hyundai Verna 1.6 SX  0.714286         600000   0.123976     1   \n",
       "3    Datsun RediGO T Option  0.892857         250000   0.057028     4   \n",
       "4     Honda Amaze VX i-DTEC  0.785714         450000   0.174807     1   \n",
       "\n",
       "   seller_type  transmission  owner  \n",
       "0            1             1      0  \n",
       "1            1             1      0  \n",
       "2            1             1      0  \n",
       "3            1             1      0  \n",
       "4            1             1      2  "
      ]
     },
     "execution_count": 129,
     "metadata": {},
     "output_type": "execute_result"
    }
   ],
   "source": [
    "df1.head()"
   ]
  },
  {
   "cell_type": "code",
   "execution_count": 136,
   "id": "02c58d38",
   "metadata": {},
   "outputs": [
    {
     "name": "stdout",
     "output_type": "stream",
     "text": [
      "DataFrame saved to C:/Users/deepa/OneDrive/Desktop/CarData7.csv\n"
     ]
    }
   ],
   "source": [
    "file_path = \"C:/Users/deepa/OneDrive/Desktop/CarData7.csv\"\n",
    "\n",
    "# Save the DataFrame to an Excel file\n",
    "df1.to_csv(file_path, index=False)  # Set index=False if you don't want to include row numbers as the first column\n",
    "\n",
    "print(f\"DataFrame saved to {file_path}\")"
   ]
  }
 ],
 "metadata": {
  "kernelspec": {
   "display_name": "Python 3 (ipykernel)",
   "language": "python",
   "name": "python3"
  },
  "language_info": {
   "codemirror_mode": {
    "name": "ipython",
    "version": 3
   },
   "file_extension": ".py",
   "mimetype": "text/x-python",
   "name": "python",
   "nbconvert_exporter": "python",
   "pygments_lexer": "ipython3",
   "version": "3.10.9"
  }
 },
 "nbformat": 4,
 "nbformat_minor": 5
}
